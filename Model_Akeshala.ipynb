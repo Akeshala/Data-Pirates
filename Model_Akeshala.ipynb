{
 "cells": [
  {
   "cell_type": "raw",
   "metadata": {},
   "source": [
    "check-in - 1\n",
    "cancel - 2\n",
    "no-show - 3"
   ]
  },
  {
   "cell_type": "code",
   "execution_count": 51,
   "metadata": {},
   "outputs": [],
   "source": [
    "import numpy as np\n",
    "import pandas as pd \n",
    "import matplotlib.pyplot as plt\n",
    "from sklearn.metrics import confusion_matrix,classification_report\n",
    "import seaborn as sns\n",
    "from imblearn.under_sampling import RandomUnderSampler\n",
    "from sklearn.metrics import roc_auc_score\n",
    "from sklearn import preprocessing\n",
    "import joblib"
   ]
  },
  {
   "cell_type": "code",
   "execution_count": 52,
   "metadata": {},
   "outputs": [],
   "source": [
    "df = pd.read_csv(\"Encoded Data Combined/Final Combined Data/new_train_data_akeshala_nipun_samal.csv\", encoding='latin-1')\n",
    "df_validation = pd.read_csv(\"Encoded Data Combined/Final Combined Data/new_validation_data_akeshala_nipun_samal.csv\", encoding='latin-1')\n",
    "x_train = df.drop(columns=[\"Reservation_Status\",\"Reservation-id\"]).iloc[:,2:]\n",
    "y_train = df.iloc[:,22:23]\n",
    "x_validation = df_validation.drop(columns=[\"Reservation_Status\",\"Reservation-id\"]).iloc[:,2:]\n",
    "y_validation = df_validation.iloc[:,22:23]"
   ]
  },
  {
   "cell_type": "raw",
   "metadata": {},
   "source": [
    "#combining childern and babies\n",
    "x_train['Children']=x_train['Children']+x_train['Babies']\n",
    "x_train = x_train.drop(columns=['Babies'])\n",
    "x_validation['Children']=x_validation['Children']+x_validation['Babies']\n",
    "x_validation = x_validation.drop(columns=['Babies'])"
   ]
  },
  {
   "cell_type": "code",
   "execution_count": 53,
   "metadata": {},
   "outputs": [],
   "source": [
    "#under sample\n",
    "rus = RandomUnderSampler(random_state = 21)\n",
    "x_train, y_train = rus.fit_sample(x_train, y_train)"
   ]
  },
  {
   "cell_type": "code",
   "execution_count": 54,
   "metadata": {},
   "outputs": [],
   "source": [
    "from sklearn.preprocessing import StandardScaler\n",
    "from sklearn.model_selection import train_test_split\n",
    "\n",
    "sc = StandardScaler()\n",
    "\n",
    "x_train = sc.fit_transform(x_train)\n",
    "x_validation = sc.transform(x_validation)"
   ]
  },
  {
   "cell_type": "code",
   "execution_count": 55,
   "metadata": {},
   "outputs": [
    {
     "name": "stdout",
     "output_type": "stream",
     "text": [
      "Accuracy = 0.3539468897781011\n"
     ]
    }
   ],
   "source": [
    "from sklearn.ensemble import RandomForestClassifier\n",
    "\n",
    "classifier = RandomForestClassifier(random_state = 23)\n",
    "classifier.fit(x_train, y_train.values.ravel())\n",
    "\n",
    "joblib.dump(classifier, 'randomforest_a0.37_f0.33.pkl') \n",
    "\n",
    "#classifier = joblib.load('randomforestmodel.pkl')\n",
    "\n",
    "y_pred = classifier.predict(x_validation)\n",
    "print(f\"Accuracy = {classifier.score(x_validation,y_validation.values.ravel())}\")"
   ]
  },
  {
   "cell_type": "code",
   "execution_count": 56,
   "metadata": {},
   "outputs": [
    {
     "name": "stdout",
     "output_type": "stream",
     "text": [
      "[[631 429 550]\n",
      " [272 202 267]\n",
      " [149 109 140]]\n",
      "              precision    recall  f1-score   support\n",
      "\n",
      "           0       0.60      0.39      0.47      1610\n",
      "           1       0.27      0.27      0.27       741\n",
      "           2       0.15      0.35      0.21       398\n",
      "\n",
      "    accuracy                           0.35      2749\n",
      "   macro avg       0.34      0.34      0.32      2749\n",
      "weighted avg       0.45      0.35      0.38      2749\n",
      "\n"
     ]
    }
   ],
   "source": [
    "cm = confusion_matrix(y_validation,y_pred)\n",
    "print(cm)\n",
    "print(classification_report(y_validation, y_pred))"
   ]
  },
  {
   "cell_type": "code",
   "execution_count": 57,
   "metadata": {},
   "outputs": [
    {
     "name": "stdout",
     "output_type": "stream",
     "text": [
      "Accuracy = 0.35467442706438707\n"
     ]
    }
   ],
   "source": [
    "from sklearn.ensemble import AdaBoostClassifier\n",
    "\n",
    "classifier = AdaBoostClassifier(random_state = 21)\n",
    "classifier.fit(x_train, y_train.values.ravel())\n",
    "y_pred = classifier.predict(x_validation)\n",
    "\n",
    "print(f\"Accuracy = {classifier.score(x_validation,y_validation.values.ravel())}\")"
   ]
  },
  {
   "cell_type": "code",
   "execution_count": 58,
   "metadata": {},
   "outputs": [
    {
     "name": "stdout",
     "output_type": "stream",
     "text": [
      "[[677 292 641]\n",
      " [279 141 321]\n",
      " [155  86 157]]\n",
      "              precision    recall  f1-score   support\n",
      "\n",
      "           0       0.61      0.42      0.50      1610\n",
      "           1       0.27      0.19      0.22       741\n",
      "           2       0.14      0.39      0.21       398\n",
      "\n",
      "    accuracy                           0.35      2749\n",
      "   macro avg       0.34      0.34      0.31      2749\n",
      "weighted avg       0.45      0.35      0.38      2749\n",
      "\n"
     ]
    }
   ],
   "source": [
    "cm = confusion_matrix(y_validation,y_pred)\n",
    "print(cm)\n",
    "print(classification_report(y_validation, y_pred))"
   ]
  },
  {
   "cell_type": "code",
   "execution_count": 59,
   "metadata": {},
   "outputs": [
    {
     "name": "stdout",
     "output_type": "stream",
     "text": [
      "Accuracy = 0.3463077482720989\n"
     ]
    }
   ],
   "source": [
    "from sklearn.ensemble import GradientBoostingClassifier\n",
    "classifier = GradientBoostingClassifier(learning_rate=0.005,n_estimators=1500,random_state=21,max_depth=7)\n",
    "classifier.fit(x_train, y_train.values.ravel())\n",
    "joblib.dump(classifier, 'gradientboostmodel.pkl') \n",
    "\n",
    "classifier = joblib.load('gradientboostmodel.pkl')\n",
    "y_pred = classifier.predict(x_validation)\n",
    "\n",
    "\n",
    "print(f\"Accuracy = {classifier.score(x_validation,y_validation.values.ravel())}\")"
   ]
  },
  {
   "cell_type": "code",
   "execution_count": 60,
   "metadata": {},
   "outputs": [
    {
     "name": "stdout",
     "output_type": "stream",
     "text": [
      "[[575 434 601]\n",
      " [263 221 257]\n",
      " [145  97 156]]\n",
      "              precision    recall  f1-score   support\n",
      "\n",
      "           0       0.58      0.36      0.44      1610\n",
      "           1       0.29      0.30      0.30       741\n",
      "           2       0.15      0.39      0.22       398\n",
      "\n",
      "    accuracy                           0.35      2749\n",
      "   macro avg       0.34      0.35      0.32      2749\n",
      "weighted avg       0.44      0.35      0.37      2749\n",
      "\n"
     ]
    }
   ],
   "source": [
    "cm = confusion_matrix(y_validation,y_pred)\n",
    "print(cm)\n",
    "print(classification_report(y_validation, y_pred))"
   ]
  },
  {
   "cell_type": "code",
   "execution_count": null,
   "metadata": {},
   "outputs": [],
   "source": []
  }
 ],
 "metadata": {
  "kernelspec": {
   "display_name": "Python 3",
   "language": "python",
   "name": "python3"
  },
  "language_info": {
   "codemirror_mode": {
    "name": "ipython",
    "version": 3
   },
   "file_extension": ".py",
   "mimetype": "text/x-python",
   "name": "python",
   "nbconvert_exporter": "python",
   "pygments_lexer": "ipython3",
   "version": "3.8.3"
  }
 },
 "nbformat": 4,
 "nbformat_minor": 4
}
