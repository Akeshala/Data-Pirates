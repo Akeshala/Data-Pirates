{
 "cells": [
  {
   "cell_type": "code",
   "execution_count": 105,
   "metadata": {},
   "outputs": [],
   "source": [
    "import numpy as np\n",
    "import pandas as pd \n",
    "import matplotlib.pyplot as plt\n",
    "from sklearn.metrics import confusion_matrix,classification_report\n",
    "import seaborn as sns\n",
    "from imblearn.under_sampling import RandomUnderSampler\n",
    "from sklearn.metrics import roc_auc_score\n",
    "from sklearn import preprocessing\n",
    "import joblib"
   ]
  },
  {
   "cell_type": "code",
   "execution_count": 193,
   "metadata": {},
   "outputs": [],
   "source": [
    "df = pd.read_csv(\"Encoded Data Combined/Final Combined Data/new_train_data_akeshala_nipun_samal.csv\", encoding='latin-1')\n",
    "df_validation = pd.read_csv(\"Encoded Data Combined/Final Combined Data/new_validation_data_akeshala_nipun_samal.csv\", encoding='latin-1')\n",
    "x_train = df.drop(columns=[\"Reservation_Status\",\"Reservation-id\",\"Previous_Cancellations\"]).iloc[:,1:]\n",
    "y_train = df.iloc[:,21:22]\n",
    "x_validation = df_validation.drop(columns=[\"Reservation_Status\",\"Reservation-id\",\"Previous_Cancellations\"]).iloc[:,1:]\n",
    "y_validation = df_validation.iloc[:,21:22]"
   ]
  },
  {
   "cell_type": "code",
   "execution_count": 184,
   "metadata": {},
   "outputs": [],
   "source": [
    "#combining childern and babies\n",
    "x_train['Children']=x_train['Children']+x_train['Babies']\n",
    "x_train = x_train.drop(columns=['Babies'])\n",
    "x_validation['Children']=x_validation['Children']+x_validation['Babies']\n",
    "x_validation = x_validation.drop(columns=['Babies'])"
   ]
  },
  {
   "cell_type": "code",
   "execution_count": 194,
   "metadata": {},
   "outputs": [],
   "source": [
    "#under sample\n",
    "rus = RandomUnderSampler(random_state = 21)\n",
    "x_train, y_train = rus.fit_sample(x_train, y_train)"
   ]
  },
  {
   "cell_type": "code",
   "execution_count": 195,
   "metadata": {},
   "outputs": [],
   "source": [
    "from sklearn.preprocessing import StandardScaler\n",
    "from sklearn.model_selection import train_test_split\n",
    "\n",
    "sc = StandardScaler()\n",
    "\n",
    "x_train = sc.fit_transform(x_train)\n",
    "x_validation = sc.transform(x_validation)"
   ]
  },
  {
   "cell_type": "code",
   "execution_count": 196,
   "metadata": {},
   "outputs": [
    {
     "name": "stdout",
     "output_type": "stream",
     "text": [
      "Accuracy = 0.364496180429247\n"
     ]
    }
   ],
   "source": [
    "from sklearn.ensemble import RandomForestClassifier\n",
    "\n",
    "classifier = RandomForestClassifier(random_state = 23)\n",
    "classifier.fit(x_train, y_train.values.ravel())\n",
    "\n",
    "#joblib.dump(classifier, 'randomforestmodel.pkl') \n",
    "\n",
    "#classifier = joblib.load('randomforestmodel.pkl')\n",
    "\n",
    "y_pred = classifier.predict(x_validation)\n",
    "print(f\"Accuracy = {classifier.score(x_validation,y_validation.values.ravel())}\")"
   ]
  },
  {
   "cell_type": "code",
   "execution_count": 197,
   "metadata": {},
   "outputs": [
    {
     "name": "stdout",
     "output_type": "stream",
     "text": [
      "[[200 247 294]\n",
      " [117 126 155]\n",
      " [425 509 676]]\n",
      "              precision    recall  f1-score   support\n",
      "\n",
      "           0       0.27      0.27      0.27       741\n",
      "           1       0.14      0.32      0.20       398\n",
      "           2       0.60      0.42      0.49      1610\n",
      "\n",
      "    accuracy                           0.36      2749\n",
      "   macro avg       0.34      0.34      0.32      2749\n",
      "weighted avg       0.45      0.36      0.39      2749\n",
      "\n"
     ]
    }
   ],
   "source": [
    "cm = confusion_matrix(y_validation,y_pred)\n",
    "print(cm)\n",
    "print(classification_report(y_validation, y_pred))"
   ]
  },
  {
   "cell_type": "code",
   "execution_count": 198,
   "metadata": {},
   "outputs": [
    {
     "name": "stdout",
     "output_type": "stream",
     "text": [
      "Accuracy = 0.3917788286649691\n"
     ]
    }
   ],
   "source": [
    "from sklearn.ensemble import AdaBoostClassifier\n",
    "\n",
    "classifier = AdaBoostClassifier(random_state = 21)\n",
    "classifier.fit(x_train, y_train.values.ravel())\n",
    "y_pred = classifier.predict(x_validation)\n",
    "\n",
    "print(f\"Accuracy = {classifier.score(x_validation,y_validation.values.ravel())}\")"
   ]
  },
  {
   "cell_type": "code",
   "execution_count": 199,
   "metadata": {},
   "outputs": [
    {
     "name": "stdout",
     "output_type": "stream",
     "text": [
      "[[119 263 359]\n",
      " [ 72 132 194]\n",
      " [257 527 826]]\n",
      "              precision    recall  f1-score   support\n",
      "\n",
      "           0       0.27      0.16      0.20       741\n",
      "           1       0.14      0.33      0.20       398\n",
      "           2       0.60      0.51      0.55      1610\n",
      "\n",
      "    accuracy                           0.39      2749\n",
      "   macro avg       0.34      0.34      0.32      2749\n",
      "weighted avg       0.44      0.39      0.41      2749\n",
      "\n"
     ]
    }
   ],
   "source": [
    "cm = confusion_matrix(y_validation,y_pred)\n",
    "print(cm)\n",
    "print(classification_report(y_validation, y_pred))"
   ]
  },
  {
   "cell_type": "code",
   "execution_count": 200,
   "metadata": {},
   "outputs": [
    {
     "name": "stdout",
     "output_type": "stream",
     "text": [
      "Accuracy = 0.4128774099672608\n"
     ]
    }
   ],
   "source": [
    "from sklearn.ensemble import GradientBoostingClassifier\n",
    "classifier = GradientBoostingClassifier(learning_rate=0.005,n_estimators=1500,random_state=21,max_depth=7,min_samples_split=1600,min_samples_leaf=30,max_features=2,subsample=1)\n",
    "classifier.fit(x_train, y_train.values.ravel())\n",
    "y_pred = classifier.predict(x_validation)\n",
    "\n",
    "print(f\"Accuracy = {classifier.score(x_validation,y_validation.values.ravel())}\")"
   ]
  },
  {
   "cell_type": "code",
   "execution_count": 201,
   "metadata": {},
   "outputs": [
    {
     "name": "stdout",
     "output_type": "stream",
     "text": [
      "[[113 225 403]\n",
      " [ 75 106 217]\n",
      " [250 444 916]]\n",
      "              precision    recall  f1-score   support\n",
      "\n",
      "           0       0.26      0.15      0.19       741\n",
      "           1       0.14      0.27      0.18       398\n",
      "           2       0.60      0.57      0.58      1610\n",
      "\n",
      "    accuracy                           0.41      2749\n",
      "   macro avg       0.33      0.33      0.32      2749\n",
      "weighted avg       0.44      0.41      0.42      2749\n",
      "\n"
     ]
    }
   ],
   "source": [
    "cm = confusion_matrix(y_validation,y_pred)\n",
    "print(cm)\n",
    "print(classification_report(y_validation, y_pred))"
   ]
  },
  {
   "cell_type": "code",
   "execution_count": null,
   "metadata": {},
   "outputs": [],
   "source": []
  }
 ],
 "metadata": {
  "kernelspec": {
   "display_name": "Python 3",
   "language": "python",
   "name": "python3"
  },
  "language_info": {
   "codemirror_mode": {
    "name": "ipython",
    "version": 3
   },
   "file_extension": ".py",
   "mimetype": "text/x-python",
   "name": "python",
   "nbconvert_exporter": "python",
   "pygments_lexer": "ipython3",
   "version": "3.8.3"
  }
 },
 "nbformat": 4,
 "nbformat_minor": 4
}
