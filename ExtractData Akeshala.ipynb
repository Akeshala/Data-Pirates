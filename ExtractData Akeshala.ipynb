{
 "cells": [
  {
   "cell_type": "code",
   "execution_count": 76,
   "metadata": {},
   "outputs": [],
   "source": [
    "from pandas import read_csv"
   ]
  },
  {
   "cell_type": "code",
   "execution_count": 77,
   "metadata": {},
   "outputs": [],
   "source": [
    "dataset = read_csv('Hotel-A-test.csv')"
   ]
  },
  {
   "cell_type": "code",
   "execution_count": 78,
   "metadata": {},
   "outputs": [
    {
     "name": "stdout",
     "output_type": "stream",
     "text": [
      "      Reservation-id Gender  Age         Ethnicity Educational_Level  \\\n",
      "0           62931593      F   52            Latino              Grad   \n",
      "1           70586099      F   47            Latino              Grad   \n",
      "2            4230648      F   28    Asian American              Grad   \n",
      "3           25192322      F   65         caucasian       High-School   \n",
      "4           80931528      M   45  African American           College   \n",
      "...              ...    ...  ...               ...               ...   \n",
      "4313        39110574      M   53            Latino           College   \n",
      "4314         5496554      F   63         caucasian           College   \n",
      "4315        59004046      F   59         caucasian              Grad   \n",
      "4316        65838682      M   43  African American           College   \n",
      "4317        14474101      F   33  African American        Mid-School   \n",
      "\n",
      "           Income Country_region      Hotel_Type Expected_checkin  \\\n",
      "0       25K --50K          South      City Hotel       11/18/2016   \n",
      "1       25K --50K           East  Airport Hotels       11/18/2016   \n",
      "2            <25K           East      City Hotel        4/28/2017   \n",
      "3       25K --50K          South  Airport Hotels       11/18/2016   \n",
      "4       25K --50K          South      City Hotel       11/18/2016   \n",
      "...           ...            ...             ...              ...   \n",
      "4313  50K -- 100K          South          Resort        3/29/2017   \n",
      "4314  50K -- 100K          South          Resort        3/29/2017   \n",
      "4315         <25K           East  Airport Hotels        3/29/2017   \n",
      "4316    25K --50K           West          Resort        3/29/2017   \n",
      "4317  50K -- 100K          North      City Hotel        3/29/2017   \n",
      "\n",
      "     Expected_checkout  ... Babies  Meal_Type  Visted_Previously  \\\n",
      "0           11/19/2016  ...      0         HB                 No   \n",
      "1           11/19/2016  ...      0         FB                 No   \n",
      "2             5/1/2017  ...      0         BB                 No   \n",
      "3           11/20/2016  ...      2         FB                 No   \n",
      "4           11/20/2016  ...      0         BB                 No   \n",
      "...                ...  ...    ...        ...                ...   \n",
      "4313         3/30/2017  ...      1         FB                Yes   \n",
      "4314          4/1/2017  ...      0         HB                 No   \n",
      "4315         3/30/2017  ...      0         FB                 No   \n",
      "4316         3/30/2017  ...      1         BB                 No   \n",
      "4317         3/30/2017  ...      0         HB                Yes   \n",
      "\n",
      "      Previous_Cancellations    Deposit_type Booking_channel  \\\n",
      "0                         No      No Deposit          Direct   \n",
      "1                         No      No Deposit          Online   \n",
      "2                         No      No Deposit           Agent   \n",
      "3                         No      No Deposit          Online   \n",
      "4                         No      Refundable           Agent   \n",
      "...                      ...             ...             ...   \n",
      "4313                      No  Non-Refundable          Online   \n",
      "4314                      No      Refundable           Agent   \n",
      "4315                      No      No Deposit          Direct   \n",
      "4316                      No      No Deposit          Online   \n",
      "4317                      No      No Deposit           Agent   \n",
      "\n",
      "     Required_Car_Parking Use_Promotion Discount_Rate Room_Rate  \n",
      "0                     Yes           Yes            10       153  \n",
      "1                      No            No             0       210  \n",
      "2                      No           Yes             5       117  \n",
      "3                     Yes           Yes            10       107  \n",
      "4                      No            No             0       119  \n",
      "...                   ...           ...           ...       ...  \n",
      "4313                  Yes            No             0       153  \n",
      "4314                  Yes           Yes            40       233  \n",
      "4315                  Yes            No             0       242  \n",
      "4316                  Yes            No             0       208  \n",
      "4317                  Yes           Yes            20       213  \n",
      "\n",
      "[4318 rows x 23 columns]\n"
     ]
    }
   ],
   "source": [
    "print(dataset)"
   ]
  },
  {
   "cell_type": "code",
   "execution_count": 80,
   "metadata": {},
   "outputs": [],
   "source": [
    "extracted_data = dataset.drop(columns = [\"Expected_checkin\",\"Expected_checkout\",\"Meal_Type\",\"Visted_Previously\",\"Previous_Cancellations\",\"Deposit_type\",\"Booking_channel\",\"Required_Car_Parking\",\"Use_Promotion\",\"Booking_date\",\"Discount_Rate\",\"Room_Rate\"])\n",
    "#,\"Reservation_Status\""
   ]
  },
  {
   "cell_type": "code",
   "execution_count": 81,
   "metadata": {},
   "outputs": [],
   "source": [
    "#gender\n",
    "def gender_type(x):\n",
    "    if x == \"F\":\n",
    "        return 1\n",
    "    elif x == \"M\":\n",
    "        return 2    \n",
    " \n",
    "gender = extracted_data[\"Gender\"].apply(gender_type)\n",
    "dataset.update(gender)"
   ]
  },
  {
   "cell_type": "code",
   "execution_count": 82,
   "metadata": {},
   "outputs": [],
   "source": [
    "def ethnicity_type(x):\n",
    "    if x == \"Latino\":\n",
    "        return 1\n",
    "    elif x== \"caucasian\":\n",
    "        return 2\n",
    "    elif x== \"African American\":\n",
    "        return 3\n",
    "    elif x== \"Asian American\":\n",
    "        return 4\n",
    "    \n",
    "ethnicity = extracted_data[\"Ethnicity\"].apply(ethnicity_type)\n",
    "dataset.update(ethnicity)"
   ]
  },
  {
   "cell_type": "code",
   "execution_count": 83,
   "metadata": {},
   "outputs": [],
   "source": [
    "def education_type(x):\n",
    "    if x == \"Grad\":\n",
    "        return 4\n",
    "    elif x== \"High-School\":\n",
    "        return 3\n",
    "    elif x== \"Mid-School\":\n",
    "        return 2\n",
    "    elif x== \"College\":\n",
    "        return 1\n",
    "    \n",
    "education = extracted_data[\"Educational_Level\"].apply(education_type)\n",
    "dataset.update(education)"
   ]
  },
  {
   "cell_type": "code",
   "execution_count": 84,
   "metadata": {},
   "outputs": [],
   "source": [
    "def income_type(x):\n",
    "    if x == \"<25K\":\n",
    "        return 1\n",
    "    elif x == \"25K --50K\":\n",
    "        return 2\n",
    "    elif x == \"50K -- 100K\":\n",
    "        return 3\n",
    "    elif x == \">100K\":\n",
    "        return 4\n",
    "    \n",
    "income = extracted_data[\"Income\"].apply(income_type)\n",
    "dataset.update(income)"
   ]
  },
  {
   "cell_type": "code",
   "execution_count": 85,
   "metadata": {},
   "outputs": [],
   "source": [
    "def region_type(x):\n",
    "    if x == \"North\":\n",
    "        return 1\n",
    "    elif x == \"East\":\n",
    "        return 2\n",
    "    elif x == \"South\":\n",
    "        return 3\n",
    "    elif x == \"West\":\n",
    "        return 4\n",
    "    \n",
    "region = extracted_data[\"Country_region\"].apply(region_type)\n",
    "dataset.update(region)"
   ]
  },
  {
   "cell_type": "code",
   "execution_count": 86,
   "metadata": {},
   "outputs": [],
   "source": [
    "def hotel_type(x):\n",
    "    if x == \"City Hotel\":\n",
    "        return 1\n",
    "    elif x == \"Resort\":\n",
    "        return 2\n",
    "    elif x == \"Airport Hotels\":\n",
    "        return 3\n",
    "    \n",
    "hotel = extracted_data[\"Hotel_Type\"].apply(hotel_type)\n",
    "dataset.update(hotel)"
   ]
  },
  {
   "cell_type": "code",
   "execution_count": 87,
   "metadata": {},
   "outputs": [],
   "source": [
    "dataset.to_csv(\"new_test_data_akeshala.csv\")"
   ]
  },
  {
   "cell_type": "code",
   "execution_count": 88,
   "metadata": {},
   "outputs": [
    {
     "data": {
      "text/plain": [
       "<bound method NDFrame.describe of       Reservation-id Gender  Age Ethnicity Educational_Level Income  \\\n",
       "0           62931593      1   52         1                 4      2   \n",
       "1           70586099      1   47         1                 4      2   \n",
       "2            4230648      1   28         4                 4      1   \n",
       "3           25192322      1   65         2                 3      2   \n",
       "4           80931528      2   45         3                 1      2   \n",
       "...              ...    ...  ...       ...               ...    ...   \n",
       "4313        39110574      2   53         1                 1      3   \n",
       "4314         5496554      1   63         2                 1      3   \n",
       "4315        59004046      1   59         2                 4      1   \n",
       "4316        65838682      2   43         3                 1      2   \n",
       "4317        14474101      1   33         3                 2      3   \n",
       "\n",
       "     Country_region Hotel_Type Expected_checkin Expected_checkout  ... Babies  \\\n",
       "0                 3          1       11/18/2016        11/19/2016  ...      0   \n",
       "1                 2          3       11/18/2016        11/19/2016  ...      0   \n",
       "2                 2          1        4/28/2017          5/1/2017  ...      0   \n",
       "3                 3          3       11/18/2016        11/20/2016  ...      2   \n",
       "4                 3          1       11/18/2016        11/20/2016  ...      0   \n",
       "...             ...        ...              ...               ...  ...    ...   \n",
       "4313              3          2        3/29/2017         3/30/2017  ...      1   \n",
       "4314              3          2        3/29/2017          4/1/2017  ...      0   \n",
       "4315              2          3        3/29/2017         3/30/2017  ...      0   \n",
       "4316              4          2        3/29/2017         3/30/2017  ...      1   \n",
       "4317              1          1        3/29/2017         3/30/2017  ...      0   \n",
       "\n",
       "      Meal_Type  Visted_Previously  Previous_Cancellations    Deposit_type  \\\n",
       "0            HB                 No                      No      No Deposit   \n",
       "1            FB                 No                      No      No Deposit   \n",
       "2            BB                 No                      No      No Deposit   \n",
       "3            FB                 No                      No      No Deposit   \n",
       "4            BB                 No                      No      Refundable   \n",
       "...         ...                ...                     ...             ...   \n",
       "4313         FB                Yes                      No  Non-Refundable   \n",
       "4314         HB                 No                      No      Refundable   \n",
       "4315         FB                 No                      No      No Deposit   \n",
       "4316         BB                 No                      No      No Deposit   \n",
       "4317         HB                Yes                      No      No Deposit   \n",
       "\n",
       "     Booking_channel Required_Car_Parking Use_Promotion Discount_Rate  \\\n",
       "0             Direct                  Yes           Yes            10   \n",
       "1             Online                   No            No             0   \n",
       "2              Agent                   No           Yes             5   \n",
       "3             Online                  Yes           Yes            10   \n",
       "4              Agent                   No            No             0   \n",
       "...              ...                  ...           ...           ...   \n",
       "4313          Online                  Yes            No             0   \n",
       "4314           Agent                  Yes           Yes            40   \n",
       "4315          Direct                  Yes            No             0   \n",
       "4316          Online                  Yes            No             0   \n",
       "4317           Agent                  Yes           Yes            20   \n",
       "\n",
       "     Room_Rate  \n",
       "0          153  \n",
       "1          210  \n",
       "2          117  \n",
       "3          107  \n",
       "4          119  \n",
       "...        ...  \n",
       "4313       153  \n",
       "4314       233  \n",
       "4315       242  \n",
       "4316       208  \n",
       "4317       213  \n",
       "\n",
       "[4318 rows x 23 columns]>"
      ]
     },
     "execution_count": 88,
     "metadata": {},
     "output_type": "execute_result"
    }
   ],
   "source": [
    "dataset.describe"
   ]
  },
  {
   "cell_type": "code",
   "execution_count": null,
   "metadata": {},
   "outputs": [],
   "source": []
  },
  {
   "cell_type": "code",
   "execution_count": null,
   "metadata": {},
   "outputs": [],
   "source": []
  }
 ],
 "metadata": {
  "kernelspec": {
   "display_name": "Python 3",
   "language": "python",
   "name": "python3"
  },
  "language_info": {
   "codemirror_mode": {
    "name": "ipython",
    "version": 3
   },
   "file_extension": ".py",
   "mimetype": "text/x-python",
   "name": "python",
   "nbconvert_exporter": "python",
   "pygments_lexer": "ipython3",
   "version": "3.8.3"
  }
 },
 "nbformat": 4,
 "nbformat_minor": 4
}
