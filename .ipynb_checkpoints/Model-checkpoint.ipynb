{
 "cells": [
  {
   "cell_type": "code",
   "execution_count": 67,
   "metadata": {},
   "outputs": [],
   "source": [
    "import numpy as np # linear algebra\n",
    "import pandas as pd # data processing, CSV file I/O (e.g. pd.read_csv)\n",
    "from sklearn.model_selection import train_test_split\n",
    "from sklearn.impute import SimpleImputer\n",
    "import matplotlib.pyplot as plt\n",
    "import seaborn as sns\n",
    "from numpy.random import seed\n",
    "seed(2)"
   ]
  },
  {
   "cell_type": "code",
   "execution_count": 68,
   "metadata": {},
   "outputs": [
    {
     "data": {
      "text/plain": [
       "array([[-0.30092391,  0.8122506 , -1.24815817, ...,  4.18104102,\n",
       "        -0.31006424, 12.42072795],\n",
       "       [-0.30092391, -1.23114714, -0.14355269, ...,  1.91980909,\n",
       "        -0.28392667,  0.50462908],\n",
       "       [-0.75938729, -1.23114714, -0.14355269, ..., -0.30969535,\n",
       "        -0.31006424, -0.29055066],\n",
       "       ...,\n",
       "       [-0.75938729, -1.23114714,  0.9610528 , ..., -0.0420257 ,\n",
       "        -0.18187359, -0.12141022],\n",
       "       [ 0.61600287, -1.23114714, -0.14355269, ..., -0.18695135,\n",
       "         3.08468491, -0.19212751],\n",
       "       [ 0.61600287, -1.23114714,  0.9610528 , ..., -0.24596448,\n",
       "        -0.24596892, -0.23598923]])"
      ]
     },
     "execution_count": 68,
     "metadata": {},
     "output_type": "execute_result"
    }
   ],
   "source": [
    "from sklearn.preprocessing import StandardScaler\n",
    "\n",
    "df = pd.read_csv('train_preprocessed.csv', header=0)\n",
    "X=df.iloc[:,1:24]\n",
    "y=df.iloc[:,24:25]\n",
    "\n",
    "sc = StandardScaler()\n",
    "X = sc.fit_transform(X)"
   ]
  },
  {
   "cell_type": "raw",
   "metadata": {},
   "source": [
    "from sklearn.utils import shuffle\n",
    "import matplotlib.pyplot as plt\n",
    "from sklearn.metrics import classification_report,confusion_matrix,roc_curve,auc,precision_recall_curve,roc_curve\n",
    "import seaborn as sns\n",
    "\n",
    "from sklearn.svm import SVC\n",
    "from sklearn.model_selection import StratifiedKFold\n",
    "from sklearn.feature_selection import RFECV\n",
    "from sklearn.datasets import make_classification\n",
    "from sklearn import discriminant_analysis\n",
    "\n",
    "from sklearn.model_selection import GridSearchCV\n",
    "from sklearn.linear_model import LogisticRegression\n",
    "\n",
    "from sklearn.metrics import classification_report\n",
    "from sklearn.svm import SVC\n",
    "\n",
    "from sklearn.decomposition import PCA\n",
    "#from imblearn.combine import SMOTEENN\n",
    "\n",
    "from sklearn.metrics import confusion_matrix\n",
    "import itertools\n",
    "from itertools import cycle\n",
    "\n",
    "from sklearn import discriminant_analysis"
   ]
  },
  {
   "cell_type": "code",
   "execution_count": 70,
   "metadata": {},
   "outputs": [],
   "source": [
    "from sklearn.model_selection import train_test_split\n",
    "x_train, x_validation, y_train, y_validation = train_test_split(X, y, test_size = 0.2,random_state=0)"
   ]
  },
  {
   "cell_type": "code",
   "execution_count": null,
   "metadata": {},
   "outputs": [],
   "source": [
    "#RandomForestGridsearch\n",
    "\n",
    "from sklearn.ensemble import RandomForestClassifier\n",
    "from sklearn.model_selection import GridSearchCV\n",
    "from sklearn import metrics\n",
    "\n",
    "rfc = RandomForestClassifier()\n",
    "parameters = {\n",
    "    \"n_estimators\":[5,10,50,100,250],\n",
    "    \"max_depth\":[2,4,8,16,32,None],\n",
    "}\n",
    "cv = GridSearchCV(rfc,parameters,cv=5)\n",
    "cv.fit(x_train, y_train)\n",
    "\n",
    "#validation\n",
    "y_pred = cv.predict(x_validation)\n",
    "print(\"Accuracy:\",metrics.accuracy_score(y_validation, y_pred))\n",
    "print(confusion_matrix(y_validation,y_pred))\n",
    "print(classification_report(y_validation,y_pred))\n",
    "\n",
    "#test\n",
    "df = pd.read_csv('test_preprocessed.csv', header=0)\n",
    "x_validation_test=df.iloc[:,1:24]\n",
    "y_pred_test = ada_clf.predict(x_validation_test)\n"
   ]
  },
  {
   "cell_type": "code",
   "execution_count": null,
   "metadata": {},
   "outputs": [],
   "source": [
    "#RandomForestClassifier\n",
    "\n",
    "from sklearn.ensemble import RandomForestClassifier\n",
    "clf=RandomForestClassifier(n_estimators=100,max_features='auto',random_state=0,\n",
    "                          max_depth=10)\n",
    "clf.fit(x_train,y_train)\n",
    "\n",
    "#validation\n",
    "y_pred = clf.predict(x_validation)\n",
    "print(\"Accuracy:\",metrics.accuracy_score(y_validation, y_pred))\n",
    "print(confusion_matrix(y_validation,y_pred))\n",
    "print(classification_report(y_validation,y_pred))\n",
    "\n",
    "#test\n",
    "df = pd.read_csv('test_preprocessed.csv', header=0)\n",
    "x_validation_test=df.iloc[:,1:24]\n",
    "y_pred_test = ada_clf.predict(x_validation_test)"
   ]
  },
  {
   "cell_type": "raw",
   "metadata": {},
   "source": [
    "#AdaBoostClassifier\n",
    "\n",
    "from sklearn.ensemble import AdaBoostClassifier\n",
    "from sklearn.tree import DecisionTreeClassifier\n",
    "from sklearn import metrics\n",
    "\n",
    "ada_clf = AdaBoostClassifier(DecisionTreeClassifier(max_depth=9), n_estimators=300,algorithm=\"SAMME.R\", learning_rate=0.0095)\n",
    "ada_clf.fit(x_train,y_train)\n",
    "\n",
    "#validation\n",
    "y_pred = ada_clf.predict(x_validation)\n",
    "print(\"Accuracy:\",metrics.accuracy_score(y_validation, y_pred))\n",
    "print(confusion_matrix(y_validation,y_pred))\n",
    "print(classification_report(y_validation,y_pred))\n",
    "\n",
    "#test\n",
    "df = pd.read_csv('test_preprocessed.csv', header=0)\n",
    "x_validation_test=df.iloc[:,1:24]\n",
    "y_pred_test = ada_clf.predict(x_validation_test)\n"
   ]
  },
  {
   "cell_type": "code",
   "execution_count": 66,
   "metadata": {},
   "outputs": [],
   "source": [
    "df_test=pd.DataFrame({'NEXT_MONTH_DEFAULT':y_pred_test})\n",
    "df_test.to_csv('Submissions/Submit2.csv',index=False)"
   ]
  },
  {
   "cell_type": "code",
   "execution_count": null,
   "metadata": {},
   "outputs": [],
   "source": []
  }
 ],
 "metadata": {
  "kernelspec": {
   "display_name": "Python 3",
   "language": "python",
   "name": "python3"
  },
  "language_info": {
   "codemirror_mode": {
    "name": "ipython",
    "version": 3
   },
   "file_extension": ".py",
   "mimetype": "text/x-python",
   "name": "python",
   "nbconvert_exporter": "python",
   "pygments_lexer": "ipython3",
   "version": "3.7.4"
  }
 },
 "nbformat": 4,
 "nbformat_minor": 2
}
