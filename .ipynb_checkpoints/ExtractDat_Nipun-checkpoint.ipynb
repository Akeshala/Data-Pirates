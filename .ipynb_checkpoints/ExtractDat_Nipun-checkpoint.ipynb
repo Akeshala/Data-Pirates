{
 "cells": [
  {
   "cell_type": "code",
   "execution_count": 1,
   "metadata": {},
   "outputs": [],
   "source": [
    "from numpy import genfromtxt\n",
    "#from xgboost import XGBClassifier\n",
    "from sklearn.model_selection import train_test_split\n",
    "from sklearn.metrics import accuracy_score\n",
    "from pandas import read_csv\n"
   ]
  },
  {
   "cell_type": "code",
   "execution_count": 2,
   "metadata": {},
   "outputs": [],
   "source": [
    "dataset = read_csv('new_train_data_akeshala_nipun_samal.csv')"
   ]
  },
  {
   "cell_type": "code",
   "execution_count": 3,
   "metadata": {},
   "outputs": [
    {
     "name": "stdout",
     "output_type": "stream",
     "text": [
      "       Unnamed: 0  Reservation-id  Gender  Age  Ethnicity  Educational_Level  \\\n",
      "0               0        39428300       1   40          1                  4   \n",
      "1               1        77491756       1   49          1                  2   \n",
      "2               2        73747291       1   42          2                  4   \n",
      "3               3        67301739       2   25          3                  1   \n",
      "4               4        77222321       1   62          1                  3   \n",
      "...           ...             ...     ...  ...        ...                ...   \n",
      "27494       27494        15645505       1   49          3                  2   \n",
      "27495       27495        56414525       1   49          4                  1   \n",
      "27496       27496        52023375       1   49          1                  3   \n",
      "27497       27497        98041387       2   65          3                  1   \n",
      "27498       27498        55243988       1   48          2                  1   \n",
      "\n",
      "       Income  Country_region  Hotel_Type  No_of_Expected_Days_to_stay  ...  \\\n",
      "0           1               1           1                            1  ...   \n",
      "1           3               2           1                            1  ...   \n",
      "2           1               2           1                            4  ...   \n",
      "3           4               3           3                            1  ...   \n",
      "4           2               2           2                            1  ...   \n",
      "...       ...             ...         ...                          ...  ...   \n",
      "27494       1               4           1                            1  ...   \n",
      "27495       2               3           3                            1  ...   \n",
      "27496       3               3           3                            1  ...   \n",
      "27497       2               3           3                            1  ...   \n",
      "27498       2               1           2                            1  ...   \n",
      "\n",
      "       Meal_Type  Visted_Previously  Previous_Cancellations  Deposit_type  \\\n",
      "0              1                  0                       0             0   \n",
      "1              1                  0                       0             1   \n",
      "2              1                  0                       0             0   \n",
      "3              1                  0                       0             1   \n",
      "4              1                  0                       0             0   \n",
      "...          ...                ...                     ...           ...   \n",
      "27494          0                  1                       1             0   \n",
      "27495          1                  0                       0             1   \n",
      "27496          0                  0                       0             0   \n",
      "27497          2                  0                       0             0   \n",
      "27498          0                  0                       0             0   \n",
      "\n",
      "       Booking_channel  Required_Car_Parking  Reservation_Status  \\\n",
      "0                    1                     1                   2   \n",
      "1                    1                     1                   2   \n",
      "2                    1                     1                   2   \n",
      "3                    2                     1                   2   \n",
      "4                    0                     0                   2   \n",
      "...                ...                   ...                 ...   \n",
      "27494                1                     1                   2   \n",
      "27495                2                     1                   1   \n",
      "27496                0                     1                   2   \n",
      "27497                1                     0                   0   \n",
      "27498                1                     0                   1   \n",
      "\n",
      "       Use_Promotion  Discount_Rate  Room_Rate  \n",
      "0                  1             10        218  \n",
      "1                  0              0        185  \n",
      "2                  0              0        119  \n",
      "3                  1              5        144  \n",
      "4                  1             10        242  \n",
      "...              ...            ...        ...  \n",
      "27494              1             10        100  \n",
      "27495              1             40        194  \n",
      "27496              1              5        202  \n",
      "27497              1             20        157  \n",
      "27498              0              0        210  \n",
      "\n",
      "[27499 rows x 25 columns]\n"
     ]
    }
   ],
   "source": [
    "print(dataset)"
   ]
  },
  {
   "cell_type": "code",
   "execution_count": null,
   "metadata": {},
   "outputs": [],
   "source": []
  },
  {
   "cell_type": "code",
   "execution_count": 4,
   "metadata": {},
   "outputs": [],
   "source": [
    "extracted_data = dataset.drop(columns = [\"Reservation-id\",\"Gender\",\"Age\",\"Ethnicity\",\"Educational_Level\",\"Income\",\"Country_region\",\"Hotel_Type\",\"Adults\",\"Children\",\"Babies\"])"
   ]
  },
  {
   "cell_type": "code",
   "execution_count": 5,
   "metadata": {},
   "outputs": [],
   "source": [
    "#Meal Type Encode\n",
    "def meal_type(x):\n",
    "    if x == 0:\n",
    "        x = 1\n",
    "        return x\n",
    "    elif x == 1:\n",
    "        x = 2\n",
    "        return x\n",
    "    elif x == 2:\n",
    "        x = 3\n",
    "        return x\n",
    "        "
   ]
  },
  {
   "cell_type": "code",
   "execution_count": 6,
   "metadata": {},
   "outputs": [],
   "source": [
    "meal_type = extracted_data[\"Meal_Type\"].apply(meal_type)"
   ]
  },
  {
   "cell_type": "code",
   "execution_count": 7,
   "metadata": {},
   "outputs": [],
   "source": [
    "dataset.update(meal_type)"
   ]
  },
  {
   "cell_type": "code",
   "execution_count": 8,
   "metadata": {},
   "outputs": [],
   "source": [
    "def yes_no(x):\n",
    "    if x == \"Yes\":\n",
    "        x = 1\n",
    "        return x\n",
    "    elif x == \"No\":\n",
    "        return 0"
   ]
  },
  {
   "cell_type": "code",
   "execution_count": 9,
   "metadata": {},
   "outputs": [],
   "source": [
    "visited_previously = extracted_data[\"Visted_Previously\"].apply(yes_no)"
   ]
  },
  {
   "cell_type": "code",
   "execution_count": 10,
   "metadata": {},
   "outputs": [],
   "source": [
    "dataset.update(visited_previously)"
   ]
  },
  {
   "cell_type": "code",
   "execution_count": 11,
   "metadata": {},
   "outputs": [],
   "source": [
    "Previous_Cancellations = extracted_data[\"Previous_Cancellations\"].apply(yes_no)"
   ]
  },
  {
   "cell_type": "code",
   "execution_count": 12,
   "metadata": {},
   "outputs": [],
   "source": [
    "dataset.update(Previous_Cancellations)"
   ]
  },
  {
   "cell_type": "code",
   "execution_count": 13,
   "metadata": {},
   "outputs": [],
   "source": [
    "def Deposit_type(x):\n",
    "    if x == 0:\n",
    "        return 1\n",
    "    elif x == 1:\n",
    "        return 2\n",
    "    elif x == 2:\n",
    "        return 3\n",
    "    elif x == 3:\n",
    "        return 4"
   ]
  },
  {
   "cell_type": "code",
   "execution_count": 14,
   "metadata": {},
   "outputs": [],
   "source": [
    "Deposit_type = extracted_data[\"Deposit_type\"].apply(Deposit_type)"
   ]
  },
  {
   "cell_type": "code",
   "execution_count": 15,
   "metadata": {},
   "outputs": [],
   "source": [
    "dataset.update(Deposit_type)"
   ]
  },
  {
   "cell_type": "code",
   "execution_count": 16,
   "metadata": {},
   "outputs": [],
   "source": [
    "def Booking_channel(x):\n",
    "    if x == 0:\n",
    "        return 1\n",
    "    elif x == 1:\n",
    "        return 2\n",
    "    elif x == 2:\n",
    "        return 3"
   ]
  },
  {
   "cell_type": "code",
   "execution_count": 17,
   "metadata": {},
   "outputs": [],
   "source": [
    "Booking_channel = extracted_data[\"Booking_channel\"].apply(Booking_channel)"
   ]
  },
  {
   "cell_type": "code",
   "execution_count": 18,
   "metadata": {},
   "outputs": [],
   "source": [
    "dataset.update(Booking_channel)"
   ]
  },
  {
   "cell_type": "code",
   "execution_count": 19,
   "metadata": {},
   "outputs": [],
   "source": [
    "dataset.update(extracted_data[\"Required_Car_Parking\"].apply(yes_no))"
   ]
  },
  {
   "cell_type": "code",
   "execution_count": 20,
   "metadata": {},
   "outputs": [],
   "source": [
    "dataset.update(extracted_data[\"Use_Promotion\"].apply(yes_no))"
   ]
  },
  {
   "cell_type": "code",
   "execution_count": 21,
   "metadata": {},
   "outputs": [],
   "source": [
    "def result(x):\n",
    "    if x == 2:\n",
    "        return 0\n",
    "    elif x == 1:\n",
    "        return 2\n",
    "    elif x == 0:\n",
    "        return 1"
   ]
  },
  {
   "cell_type": "code",
   "execution_count": 22,
   "metadata": {},
   "outputs": [],
   "source": [
    "dataset.update(dataset[\"Reservation_Status\"].apply(result))"
   ]
  },
  {
   "cell_type": "code",
   "execution_count": 23,
   "metadata": {},
   "outputs": [],
   "source": [
    "dataset.to_csv(\"new_train_data_akeshala_nipun_samal_new.csv\")"
   ]
  },
  {
   "cell_type": "code",
   "execution_count": 24,
   "metadata": {},
   "outputs": [
    {
     "data": {
      "text/plain": [
       "<bound method NDFrame.describe of        Unnamed: 0  Reservation-id  Gender  Age  Ethnicity  Educational_Level  \\\n",
       "0               0        39428300       1   40          1                  4   \n",
       "1               1        77491756       1   49          1                  2   \n",
       "2               2        73747291       1   42          2                  4   \n",
       "3               3        67301739       2   25          3                  1   \n",
       "4               4        77222321       1   62          1                  3   \n",
       "...           ...             ...     ...  ...        ...                ...   \n",
       "27494       27494        15645505       1   49          3                  2   \n",
       "27495       27495        56414525       1   49          4                  1   \n",
       "27496       27496        52023375       1   49          1                  3   \n",
       "27497       27497        98041387       2   65          3                  1   \n",
       "27498       27498        55243988       1   48          2                  1   \n",
       "\n",
       "       Income  Country_region  Hotel_Type  No_of_Expected_Days_to_stay  ...  \\\n",
       "0           1               1           1                            1  ...   \n",
       "1           3               2           1                            1  ...   \n",
       "2           1               2           1                            4  ...   \n",
       "3           4               3           3                            1  ...   \n",
       "4           2               2           2                            1  ...   \n",
       "...       ...             ...         ...                          ...  ...   \n",
       "27494       1               4           1                            1  ...   \n",
       "27495       2               3           3                            1  ...   \n",
       "27496       3               3           3                            1  ...   \n",
       "27497       2               3           3                            1  ...   \n",
       "27498       2               1           2                            1  ...   \n",
       "\n",
       "       Meal_Type  Visted_Previously  Previous_Cancellations  Deposit_type  \\\n",
       "0              2                  0                       0             1   \n",
       "1              2                  0                       0             2   \n",
       "2              2                  0                       0             1   \n",
       "3              2                  0                       0             2   \n",
       "4              2                  0                       0             1   \n",
       "...          ...                ...                     ...           ...   \n",
       "27494          1                  1                       1             1   \n",
       "27495          2                  0                       0             2   \n",
       "27496          1                  0                       0             1   \n",
       "27497          3                  0                       0             1   \n",
       "27498          1                  0                       0             1   \n",
       "\n",
       "       Booking_channel  Required_Car_Parking  Reservation_Status  \\\n",
       "0                    2                     1                   0   \n",
       "1                    2                     1                   0   \n",
       "2                    2                     1                   0   \n",
       "3                    3                     1                   0   \n",
       "4                    1                     0                   0   \n",
       "...                ...                   ...                 ...   \n",
       "27494                2                     1                   0   \n",
       "27495                3                     1                   2   \n",
       "27496                1                     1                   0   \n",
       "27497                2                     0                   1   \n",
       "27498                2                     0                   2   \n",
       "\n",
       "       Use_Promotion  Discount_Rate  Room_Rate  \n",
       "0                  1             10        218  \n",
       "1                  0              0        185  \n",
       "2                  0              0        119  \n",
       "3                  1              5        144  \n",
       "4                  1             10        242  \n",
       "...              ...            ...        ...  \n",
       "27494              1             10        100  \n",
       "27495              1             40        194  \n",
       "27496              1              5        202  \n",
       "27497              1             20        157  \n",
       "27498              0              0        210  \n",
       "\n",
       "[27499 rows x 25 columns]>"
      ]
     },
     "execution_count": 24,
     "metadata": {},
     "output_type": "execute_result"
    }
   ],
   "source": [
    "dataset.describe"
   ]
  },
  {
   "cell_type": "code",
   "execution_count": 25,
   "metadata": {},
   "outputs": [],
   "source": [
    "data = dataset['no_of_days_from_booking_to_ckeckin']"
   ]
  },
  {
   "cell_type": "code",
   "execution_count": 28,
   "metadata": {},
   "outputs": [
    {
     "ename": "AttributeError",
     "evalue": "'DataFrame' object has no attribute 'ix'",
     "output_type": "error",
     "traceback": [
      "\u001b[1;31m---------------------------------------------------------------------------\u001b[0m",
      "\u001b[1;31mAttributeError\u001b[0m                            Traceback (most recent call last)",
      "\u001b[1;32m<ipython-input-28-d2b45daa47b9>\u001b[0m in \u001b[0;36m<module>\u001b[1;34m\u001b[0m\n\u001b[0;32m      1\u001b[0m \u001b[1;32mfor\u001b[0m \u001b[0mcols\u001b[0m \u001b[1;32min\u001b[0m \u001b[0mdataset\u001b[0m\u001b[1;33m.\u001b[0m\u001b[0mno_of_days_from_booking_to_ckeckin\u001b[0m\u001b[1;33m.\u001b[0m\u001b[0mtolist\u001b[0m\u001b[1;33m(\u001b[0m\u001b[1;33m)\u001b[0m\u001b[1;33m[\u001b[0m\u001b[1;36m1\u001b[0m\u001b[1;33m:\u001b[0m\u001b[1;33m]\u001b[0m\u001b[1;33m:\u001b[0m\u001b[1;33m\u001b[0m\u001b[1;33m\u001b[0m\u001b[0m\n\u001b[1;32m----> 2\u001b[1;33m     \u001b[0mdataset\u001b[0m \u001b[1;33m=\u001b[0m \u001b[0mdataset\u001b[0m\u001b[1;33m.\u001b[0m\u001b[0mix\u001b[0m\u001b[1;33m[\u001b[0m\u001b[0mdata\u001b[0m\u001b[1;33m[\u001b[0m\u001b[0mcols\u001b[0m\u001b[1;33m]\u001b[0m \u001b[1;33m>\u001b[0m \u001b[1;36m0\u001b[0m\u001b[1;33m]\u001b[0m\u001b[1;33m\u001b[0m\u001b[1;33m\u001b[0m\u001b[0m\n\u001b[0m\u001b[0;32m      3\u001b[0m \u001b[1;33m\u001b[0m\u001b[0m\n",
      "\u001b[1;32m~\\anaconda3\\envs\\myenv\\lib\\site-packages\\pandas\\core\\generic.py\u001b[0m in \u001b[0;36m__getattr__\u001b[1;34m(self, name)\u001b[0m\n\u001b[0;32m   5137\u001b[0m             \u001b[1;32mif\u001b[0m \u001b[0mself\u001b[0m\u001b[1;33m.\u001b[0m\u001b[0m_info_axis\u001b[0m\u001b[1;33m.\u001b[0m\u001b[0m_can_hold_identifiers_and_holds_name\u001b[0m\u001b[1;33m(\u001b[0m\u001b[0mname\u001b[0m\u001b[1;33m)\u001b[0m\u001b[1;33m:\u001b[0m\u001b[1;33m\u001b[0m\u001b[1;33m\u001b[0m\u001b[0m\n\u001b[0;32m   5138\u001b[0m                 \u001b[1;32mreturn\u001b[0m \u001b[0mself\u001b[0m\u001b[1;33m[\u001b[0m\u001b[0mname\u001b[0m\u001b[1;33m]\u001b[0m\u001b[1;33m\u001b[0m\u001b[1;33m\u001b[0m\u001b[0m\n\u001b[1;32m-> 5139\u001b[1;33m             \u001b[1;32mreturn\u001b[0m \u001b[0mobject\u001b[0m\u001b[1;33m.\u001b[0m\u001b[0m__getattribute__\u001b[0m\u001b[1;33m(\u001b[0m\u001b[0mself\u001b[0m\u001b[1;33m,\u001b[0m \u001b[0mname\u001b[0m\u001b[1;33m)\u001b[0m\u001b[1;33m\u001b[0m\u001b[1;33m\u001b[0m\u001b[0m\n\u001b[0m\u001b[0;32m   5140\u001b[0m \u001b[1;33m\u001b[0m\u001b[0m\n\u001b[0;32m   5141\u001b[0m     \u001b[1;32mdef\u001b[0m \u001b[0m__setattr__\u001b[0m\u001b[1;33m(\u001b[0m\u001b[0mself\u001b[0m\u001b[1;33m,\u001b[0m \u001b[0mname\u001b[0m\u001b[1;33m:\u001b[0m \u001b[0mstr\u001b[0m\u001b[1;33m,\u001b[0m \u001b[0mvalue\u001b[0m\u001b[1;33m)\u001b[0m \u001b[1;33m->\u001b[0m \u001b[1;32mNone\u001b[0m\u001b[1;33m:\u001b[0m\u001b[1;33m\u001b[0m\u001b[1;33m\u001b[0m\u001b[0m\n",
      "\u001b[1;31mAttributeError\u001b[0m: 'DataFrame' object has no attribute 'ix'"
     ]
    }
   ],
   "source": [
    "for cols in dataset.no_of_days_from_booking_to_ckeckin.tolist()[1:]:\n",
    "    dataset = dataset.ix[data[cols] > 0]\n",
    "        "
   ]
  },
  {
   "cell_type": "code",
   "execution_count": null,
   "metadata": {},
   "outputs": [],
   "source": []
  }
 ],
 "metadata": {
  "kernelspec": {
   "display_name": "Python 3",
   "language": "python",
   "name": "python3"
  },
  "language_info": {
   "codemirror_mode": {
    "name": "ipython",
    "version": 3
   },
   "file_extension": ".py",
   "mimetype": "text/x-python",
   "name": "python",
   "nbconvert_exporter": "python",
   "pygments_lexer": "ipython3",
   "version": "3.8.2"
  }
 },
 "nbformat": 4,
 "nbformat_minor": 4
}
