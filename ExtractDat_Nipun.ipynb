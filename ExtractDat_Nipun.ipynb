{
 "cells": [
  {
   "cell_type": "code",
   "execution_count": 2,
   "metadata": {},
   "outputs": [],
   "source": [
    "from numpy import genfromtxt\n",
    "#from xgboost import XGBClassifier\n",
    "from sklearn.model_selection import train_test_split\n",
    "from sklearn.metrics import accuracy_score\n",
    "from pandas import read_csv\n"
   ]
  },
  {
   "cell_type": "code",
   "execution_count": 2,
   "metadata": {},
   "outputs": [],
   "source": [
    "dataset = read_csv('new_validation_data_akeshala_nipun_samal.csv')"
   ]
  },
  {
   "cell_type": "code",
   "execution_count": 3,
   "metadata": {},
   "outputs": [
    {
     "name": "stdout",
     "output_type": "stream",
     "text": [
      "      Unnamed: 0  Reservation-id  Gender  Age  Ethnicity  Educational_Level  \\\n",
      "0              0        45716350       2   56          2                  4   \n",
      "1              1        88857401       2   60          1                  1   \n",
      "2              2        16074440       1   58          4                  1   \n",
      "3              3        10992124       1   23          1                  1   \n",
      "4              4        15934351       1   47          4                  1   \n",
      "...          ...             ...     ...  ...        ...                ...   \n",
      "2744        2744        32194836       1   22          2                  1   \n",
      "2745        2745        52215692       1   35          2                  1   \n",
      "2746        2746        31908733       2   18          4                  4   \n",
      "2747        2747        41776403       2   42          4                  1   \n",
      "2748        2748         5961678       2   53          3                  3   \n",
      "\n",
      "      Income  Country_region  Hotel_Type  No_of_Expected_Days_to_stay  ...  \\\n",
      "0          1               4           2                            2  ...   \n",
      "1          2               4           2                            4  ...   \n",
      "2          1               1           3                            1  ...   \n",
      "3          2               2           3                            2  ...   \n",
      "4          2               3           1                            1  ...   \n",
      "...      ...             ...         ...                          ...  ...   \n",
      "2744       3               3           2                            3  ...   \n",
      "2745       2               3           3                            1  ...   \n",
      "2746       2               1           2                            2  ...   \n",
      "2747       1               4           1                            1  ...   \n",
      "2748       4               2           3                            3  ...   \n",
      "\n",
      "      Meal_Type  Visted_Previously  Previous_Cancellations  Deposit_type  \\\n",
      "0             0                  0                       0             0   \n",
      "1             2                  1                       0             0   \n",
      "2             2                  0                       0             0   \n",
      "3             2                  1                       0             1   \n",
      "4             0                  1                       0             0   \n",
      "...         ...                ...                     ...           ...   \n",
      "2744          1                  1                       0             1   \n",
      "2745          2                  0                       0             2   \n",
      "2746          2                  0                       0             1   \n",
      "2747          0                  1                       1             0   \n",
      "2748          0                  0                       0             1   \n",
      "\n",
      "      Booking_channel  Required_Car_Parking  Reservation_Status  \\\n",
      "0                   2                     0                   1   \n",
      "1                   1                     1                   0   \n",
      "2                   0                     0                   0   \n",
      "3                   0                     0                   2   \n",
      "4                   1                     1                   2   \n",
      "...               ...                   ...                 ...   \n",
      "2744                1                     0                   2   \n",
      "2745                0                     1                   0   \n",
      "2746                2                     0                   1   \n",
      "2747                1                     1                   2   \n",
      "2748                0                     0                   2   \n",
      "\n",
      "      Use_Promotion  Discount_Rate  Room_Rate  \n",
      "0                 1             15        192  \n",
      "1                 0              0        187  \n",
      "2                 1             10        227  \n",
      "3                 1             25        189  \n",
      "4                 1             10        218  \n",
      "...             ...            ...        ...  \n",
      "2744              1             10        199  \n",
      "2745              1              5        106  \n",
      "2746              1             20        136  \n",
      "2747              1             20        226  \n",
      "2748              1             40        183  \n",
      "\n",
      "[2749 rows x 25 columns]\n"
     ]
    }
   ],
   "source": [
    "print(dataset)"
   ]
  },
  {
   "cell_type": "code",
   "execution_count": null,
   "metadata": {},
   "outputs": [],
   "source": []
  },
  {
   "cell_type": "code",
   "execution_count": 4,
   "metadata": {},
   "outputs": [],
   "source": [
    "extracted_data = dataset.drop(columns = [\"Reservation-id\",\"Gender\",\"Age\",\"Ethnicity\",\"Educational_Level\",\"Income\",\"Country_region\",\"Hotel_Type\",\"Adults\",\"Children\",\"Babies\"])"
   ]
  },
  {
   "cell_type": "code",
   "execution_count": 5,
   "metadata": {},
   "outputs": [],
   "source": [
    "#Meal Type Encode\n",
    "def meal_type(x):\n",
    "    if x == 0:\n",
    "        x = 1\n",
    "        return x\n",
    "    elif x == 1:\n",
    "        x = 2\n",
    "        return x\n",
    "    elif x == 2:\n",
    "        x = 3\n",
    "        return x\n",
    "        "
   ]
  },
  {
   "cell_type": "code",
   "execution_count": 6,
   "metadata": {},
   "outputs": [],
   "source": [
    "meal_type = extracted_data[\"Meal_Type\"].apply(meal_type)"
   ]
  },
  {
   "cell_type": "code",
   "execution_count": 7,
   "metadata": {},
   "outputs": [],
   "source": [
    "dataset.update(meal_type)"
   ]
  },
  {
   "cell_type": "code",
   "execution_count": 8,
   "metadata": {},
   "outputs": [],
   "source": [
    "def yes_no(x):\n",
    "    if x == \"Yes\":\n",
    "        x = 1\n",
    "        return x\n",
    "    elif x == \"No\":\n",
    "        return 0"
   ]
  },
  {
   "cell_type": "code",
   "execution_count": 9,
   "metadata": {},
   "outputs": [],
   "source": [
    "visited_previously = extracted_data[\"Visted_Previously\"].apply(yes_no)"
   ]
  },
  {
   "cell_type": "code",
   "execution_count": 10,
   "metadata": {},
   "outputs": [],
   "source": [
    "dataset.update(visited_previously)"
   ]
  },
  {
   "cell_type": "code",
   "execution_count": 11,
   "metadata": {},
   "outputs": [],
   "source": [
    "Previous_Cancellations = extracted_data[\"Previous_Cancellations\"].apply(yes_no)"
   ]
  },
  {
   "cell_type": "code",
   "execution_count": 12,
   "metadata": {},
   "outputs": [],
   "source": [
    "dataset.update(Previous_Cancellations)"
   ]
  },
  {
   "cell_type": "code",
   "execution_count": 13,
   "metadata": {},
   "outputs": [],
   "source": [
    "def Deposit_type(x):\n",
    "    if x == 0:\n",
    "        return 1\n",
    "    elif x == 1:\n",
    "        return 2\n",
    "    elif x == 2:\n",
    "        return 3\n",
    "    elif x == 3:\n",
    "        return 4"
   ]
  },
  {
   "cell_type": "code",
   "execution_count": 14,
   "metadata": {},
   "outputs": [],
   "source": [
    "Deposit_type = extracted_data[\"Deposit_type\"].apply(Deposit_type)"
   ]
  },
  {
   "cell_type": "code",
   "execution_count": 15,
   "metadata": {},
   "outputs": [],
   "source": [
    "dataset.update(Deposit_type)"
   ]
  },
  {
   "cell_type": "code",
   "execution_count": 16,
   "metadata": {},
   "outputs": [],
   "source": [
    "def Booking_channel(x):\n",
    "    if x == 0:\n",
    "        return 1\n",
    "    elif x == 1:\n",
    "        return 2\n",
    "    elif x == 2:\n",
    "        return 3"
   ]
  },
  {
   "cell_type": "code",
   "execution_count": 17,
   "metadata": {},
   "outputs": [],
   "source": [
    "Booking_channel = extracted_data[\"Booking_channel\"].apply(Booking_channel)"
   ]
  },
  {
   "cell_type": "code",
   "execution_count": 18,
   "metadata": {},
   "outputs": [],
   "source": [
    "dataset.update(Booking_channel)"
   ]
  },
  {
   "cell_type": "code",
   "execution_count": 19,
   "metadata": {},
   "outputs": [],
   "source": [
    "dataset.update(extracted_data[\"Required_Car_Parking\"].apply(yes_no))"
   ]
  },
  {
   "cell_type": "code",
   "execution_count": 20,
   "metadata": {},
   "outputs": [],
   "source": [
    "dataset.update(extracted_data[\"Use_Promotion\"].apply(yes_no))"
   ]
  },
  {
   "cell_type": "code",
   "execution_count": 21,
   "metadata": {},
   "outputs": [],
   "source": [
    "def result(x):\n",
    "    if x == 2:\n",
    "        return 0\n",
    "    elif x == 1:\n",
    "        return 2\n",
    "    elif x == 0:\n",
    "        return 1"
   ]
  },
  {
   "cell_type": "code",
   "execution_count": 22,
   "metadata": {},
   "outputs": [],
   "source": [
    "#dataset.update(dataset[\"Reservation_Status\"].apply(result))"
   ]
  },
  {
   "cell_type": "code",
   "execution_count": 23,
   "metadata": {},
   "outputs": [],
   "source": [
    "#dataset.to_csv(\"new_train_data_akeshala_nipun_samal_new.csv\")"
   ]
  },
  {
   "cell_type": "code",
   "execution_count": 24,
   "metadata": {},
   "outputs": [
    {
     "data": {
      "text/plain": [
       "<bound method NDFrame.describe of       Unnamed: 0  Reservation-id  Gender  Age  Ethnicity  Educational_Level  \\\n",
       "0              0        45716350       2   56          2                  4   \n",
       "1              1        88857401       2   60          1                  1   \n",
       "2              2        16074440       1   58          4                  1   \n",
       "3              3        10992124       1   23          1                  1   \n",
       "4              4        15934351       1   47          4                  1   \n",
       "...          ...             ...     ...  ...        ...                ...   \n",
       "2744        2744        32194836       1   22          2                  1   \n",
       "2745        2745        52215692       1   35          2                  1   \n",
       "2746        2746        31908733       2   18          4                  4   \n",
       "2747        2747        41776403       2   42          4                  1   \n",
       "2748        2748         5961678       2   53          3                  3   \n",
       "\n",
       "      Income  Country_region  Hotel_Type  No_of_Expected_Days_to_stay  ...  \\\n",
       "0          1               4           2                            2  ...   \n",
       "1          2               4           2                            4  ...   \n",
       "2          1               1           3                            1  ...   \n",
       "3          2               2           3                            2  ...   \n",
       "4          2               3           1                            1  ...   \n",
       "...      ...             ...         ...                          ...  ...   \n",
       "2744       3               3           2                            3  ...   \n",
       "2745       2               3           3                            1  ...   \n",
       "2746       2               1           2                            2  ...   \n",
       "2747       1               4           1                            1  ...   \n",
       "2748       4               2           3                            3  ...   \n",
       "\n",
       "      Meal_Type  Visted_Previously  Previous_Cancellations  Deposit_type  \\\n",
       "0             1                  0                       0             1   \n",
       "1             3                  1                       0             1   \n",
       "2             3                  0                       0             1   \n",
       "3             3                  1                       0             2   \n",
       "4             1                  1                       0             1   \n",
       "...         ...                ...                     ...           ...   \n",
       "2744          2                  1                       0             2   \n",
       "2745          3                  0                       0             3   \n",
       "2746          3                  0                       0             2   \n",
       "2747          1                  1                       1             1   \n",
       "2748          1                  0                       0             2   \n",
       "\n",
       "      Booking_channel  Required_Car_Parking  Reservation_Status  \\\n",
       "0                   3                     0                   1   \n",
       "1                   2                     1                   0   \n",
       "2                   1                     0                   0   \n",
       "3                   1                     0                   2   \n",
       "4                   2                     1                   2   \n",
       "...               ...                   ...                 ...   \n",
       "2744                2                     0                   2   \n",
       "2745                1                     1                   0   \n",
       "2746                3                     0                   1   \n",
       "2747                2                     1                   2   \n",
       "2748                1                     0                   2   \n",
       "\n",
       "      Use_Promotion  Discount_Rate  Room_Rate  \n",
       "0                 1             15        192  \n",
       "1                 0              0        187  \n",
       "2                 1             10        227  \n",
       "3                 1             25        189  \n",
       "4                 1             10        218  \n",
       "...             ...            ...        ...  \n",
       "2744              1             10        199  \n",
       "2745              1              5        106  \n",
       "2746              1             20        136  \n",
       "2747              1             20        226  \n",
       "2748              1             40        183  \n",
       "\n",
       "[2749 rows x 25 columns]>"
      ]
     },
     "execution_count": 24,
     "metadata": {},
     "output_type": "execute_result"
    }
   ],
   "source": [
    "dataset.describe"
   ]
  },
  {
   "cell_type": "code",
   "execution_count": 25,
   "metadata": {},
   "outputs": [],
   "source": []
  },
  {
   "cell_type": "code",
   "execution_count": 26,
   "metadata": {},
   "outputs": [
    {
     "data": {
      "text/plain": [
       "[200,\n",
       " 236,\n",
       " 256,\n",
       " 266,\n",
       " 541,\n",
       " 552,\n",
       " 780,\n",
       " 1066,\n",
       " 1338,\n",
       " 1384,\n",
       " 1387,\n",
       " 1789,\n",
       " 2324,\n",
       " 2562,\n",
       " 2596,\n",
       " 2702]"
      ]
     },
     "execution_count": 26,
     "metadata": {},
     "output_type": "execute_result"
    }
   ],
   "source": [
    "# l = []\n",
    "# count = 0\n",
    "# for each in data:\n",
    "#     if each < 0:\n",
    "#         l.append(count)\n",
    "#     count += 1\n",
    "# l        "
   ]
  },
  {
   "cell_type": "code",
   "execution_count": 27,
   "metadata": {},
   "outputs": [],
   "source": [
    "# dataset = dataset.drop(l)"
   ]
  },
  {
   "cell_type": "code",
   "execution_count": 28,
   "metadata": {},
   "outputs": [],
   "source": [
    "# dataset.to_csv(\"new_validation_data_akeshala_nipun_samal_updated.csv\")"
   ]
  },
  {
   "cell_type": "code",
   "execution_count": 19,
   "metadata": {},
   "outputs": [
    {
     "data": {
      "text/html": [
       "<div>\n",
       "<style scoped>\n",
       "    .dataframe tbody tr th:only-of-type {\n",
       "        vertical-align: middle;\n",
       "    }\n",
       "\n",
       "    .dataframe tbody tr th {\n",
       "        vertical-align: top;\n",
       "    }\n",
       "\n",
       "    .dataframe thead th {\n",
       "        text-align: right;\n",
       "    }\n",
       "</style>\n",
       "<table border=\"1\" class=\"dataframe\">\n",
       "  <thead>\n",
       "    <tr style=\"text-align: right;\">\n",
       "      <th></th>\n",
       "      <th>Unnamed: 0</th>\n",
       "      <th>Reservation-id</th>\n",
       "      <th>Reservation_Status</th>\n",
       "    </tr>\n",
       "  </thead>\n",
       "  <tbody>\n",
       "    <tr>\n",
       "      <th>0</th>\n",
       "      <td>0</td>\n",
       "      <td>62931593</td>\n",
       "      <td>0</td>\n",
       "    </tr>\n",
       "    <tr>\n",
       "      <th>1</th>\n",
       "      <td>1</td>\n",
       "      <td>70586099</td>\n",
       "      <td>0</td>\n",
       "    </tr>\n",
       "    <tr>\n",
       "      <th>2</th>\n",
       "      <td>2</td>\n",
       "      <td>4230648</td>\n",
       "      <td>2</td>\n",
       "    </tr>\n",
       "    <tr>\n",
       "      <th>3</th>\n",
       "      <td>3</td>\n",
       "      <td>25192322</td>\n",
       "      <td>0</td>\n",
       "    </tr>\n",
       "    <tr>\n",
       "      <th>4</th>\n",
       "      <td>4</td>\n",
       "      <td>80931528</td>\n",
       "      <td>0</td>\n",
       "    </tr>\n",
       "    <tr>\n",
       "      <th>...</th>\n",
       "      <td>...</td>\n",
       "      <td>...</td>\n",
       "      <td>...</td>\n",
       "    </tr>\n",
       "    <tr>\n",
       "      <th>4313</th>\n",
       "      <td>4313</td>\n",
       "      <td>39110574</td>\n",
       "      <td>0</td>\n",
       "    </tr>\n",
       "    <tr>\n",
       "      <th>4314</th>\n",
       "      <td>4314</td>\n",
       "      <td>5496554</td>\n",
       "      <td>0</td>\n",
       "    </tr>\n",
       "    <tr>\n",
       "      <th>4315</th>\n",
       "      <td>4315</td>\n",
       "      <td>59004046</td>\n",
       "      <td>1</td>\n",
       "    </tr>\n",
       "    <tr>\n",
       "      <th>4316</th>\n",
       "      <td>4316</td>\n",
       "      <td>65838682</td>\n",
       "      <td>0</td>\n",
       "    </tr>\n",
       "    <tr>\n",
       "      <th>4317</th>\n",
       "      <td>4317</td>\n",
       "      <td>14474101</td>\n",
       "      <td>1</td>\n",
       "    </tr>\n",
       "  </tbody>\n",
       "</table>\n",
       "<p>4318 rows × 3 columns</p>\n",
       "</div>"
      ],
      "text/plain": [
       "      Unnamed: 0  Reservation-id  Reservation_Status\n",
       "0              0        62931593                   0\n",
       "1              1        70586099                   0\n",
       "2              2         4230648                   2\n",
       "3              3        25192322                   0\n",
       "4              4        80931528                   0\n",
       "...          ...             ...                 ...\n",
       "4313        4313        39110574                   0\n",
       "4314        4314         5496554                   0\n",
       "4315        4315        59004046                   1\n",
       "4316        4316        65838682                   0\n",
       "4317        4317        14474101                   1\n",
       "\n",
       "[4318 rows x 3 columns]"
      ]
     },
     "execution_count": 19,
     "metadata": {},
     "output_type": "execute_result"
    }
   ],
   "source": [
    "data = read_csv('kneibours.csv')\n",
    "data"
   ]
  },
  {
   "cell_type": "code",
   "execution_count": 20,
   "metadata": {},
   "outputs": [],
   "source": [
    "def f(x):\n",
    "    return x+1"
   ]
  },
  {
   "cell_type": "code",
   "execution_count": 21,
   "metadata": {},
   "outputs": [],
   "source": [
    "data.update(data['Reservation_Status'].apply(f))"
   ]
  },
  {
   "cell_type": "code",
   "execution_count": 22,
   "metadata": {},
   "outputs": [
    {
     "data": {
      "text/html": [
       "<div>\n",
       "<style scoped>\n",
       "    .dataframe tbody tr th:only-of-type {\n",
       "        vertical-align: middle;\n",
       "    }\n",
       "\n",
       "    .dataframe tbody tr th {\n",
       "        vertical-align: top;\n",
       "    }\n",
       "\n",
       "    .dataframe thead th {\n",
       "        text-align: right;\n",
       "    }\n",
       "</style>\n",
       "<table border=\"1\" class=\"dataframe\">\n",
       "  <thead>\n",
       "    <tr style=\"text-align: right;\">\n",
       "      <th></th>\n",
       "      <th>Unnamed: 0</th>\n",
       "      <th>Reservation-id</th>\n",
       "      <th>Reservation_Status</th>\n",
       "    </tr>\n",
       "  </thead>\n",
       "  <tbody>\n",
       "    <tr>\n",
       "      <th>0</th>\n",
       "      <td>0</td>\n",
       "      <td>62931593</td>\n",
       "      <td>1</td>\n",
       "    </tr>\n",
       "    <tr>\n",
       "      <th>1</th>\n",
       "      <td>1</td>\n",
       "      <td>70586099</td>\n",
       "      <td>1</td>\n",
       "    </tr>\n",
       "    <tr>\n",
       "      <th>2</th>\n",
       "      <td>2</td>\n",
       "      <td>4230648</td>\n",
       "      <td>3</td>\n",
       "    </tr>\n",
       "    <tr>\n",
       "      <th>3</th>\n",
       "      <td>3</td>\n",
       "      <td>25192322</td>\n",
       "      <td>1</td>\n",
       "    </tr>\n",
       "    <tr>\n",
       "      <th>4</th>\n",
       "      <td>4</td>\n",
       "      <td>80931528</td>\n",
       "      <td>1</td>\n",
       "    </tr>\n",
       "    <tr>\n",
       "      <th>...</th>\n",
       "      <td>...</td>\n",
       "      <td>...</td>\n",
       "      <td>...</td>\n",
       "    </tr>\n",
       "    <tr>\n",
       "      <th>4313</th>\n",
       "      <td>4313</td>\n",
       "      <td>39110574</td>\n",
       "      <td>1</td>\n",
       "    </tr>\n",
       "    <tr>\n",
       "      <th>4314</th>\n",
       "      <td>4314</td>\n",
       "      <td>5496554</td>\n",
       "      <td>1</td>\n",
       "    </tr>\n",
       "    <tr>\n",
       "      <th>4315</th>\n",
       "      <td>4315</td>\n",
       "      <td>59004046</td>\n",
       "      <td>2</td>\n",
       "    </tr>\n",
       "    <tr>\n",
       "      <th>4316</th>\n",
       "      <td>4316</td>\n",
       "      <td>65838682</td>\n",
       "      <td>1</td>\n",
       "    </tr>\n",
       "    <tr>\n",
       "      <th>4317</th>\n",
       "      <td>4317</td>\n",
       "      <td>14474101</td>\n",
       "      <td>2</td>\n",
       "    </tr>\n",
       "  </tbody>\n",
       "</table>\n",
       "<p>4318 rows × 3 columns</p>\n",
       "</div>"
      ],
      "text/plain": [
       "      Unnamed: 0  Reservation-id  Reservation_Status\n",
       "0              0        62931593                   1\n",
       "1              1        70586099                   1\n",
       "2              2         4230648                   3\n",
       "3              3        25192322                   1\n",
       "4              4        80931528                   1\n",
       "...          ...             ...                 ...\n",
       "4313        4313        39110574                   1\n",
       "4314        4314         5496554                   1\n",
       "4315        4315        59004046                   2\n",
       "4316        4316        65838682                   1\n",
       "4317        4317        14474101                   2\n",
       "\n",
       "[4318 rows x 3 columns]"
      ]
     },
     "execution_count": 22,
     "metadata": {},
     "output_type": "execute_result"
    }
   ],
   "source": [
    "data"
   ]
  },
  {
   "cell_type": "code",
   "execution_count": 23,
   "metadata": {},
   "outputs": [],
   "source": [
    "data.to_csv(\"submission1.csv\")"
   ]
  },
  {
   "cell_type": "code",
   "execution_count": null,
   "metadata": {},
   "outputs": [],
   "source": []
  }
 ],
 "metadata": {
  "kernelspec": {
   "display_name": "Python 3",
   "language": "python",
   "name": "python3"
  },
  "language_info": {
   "codemirror_mode": {
    "name": "ipython",
    "version": 3
   },
   "file_extension": ".py",
   "mimetype": "text/x-python",
   "name": "python",
   "nbconvert_exporter": "python",
   "pygments_lexer": "ipython3",
   "version": "3.8.2"
  }
 },
 "nbformat": 4,
 "nbformat_minor": 4
}
