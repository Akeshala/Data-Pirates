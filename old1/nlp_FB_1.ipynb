{
 "cells": [
  {
   "cell_type": "code",
   "execution_count": 2,
   "metadata": {},
   "outputs": [
    {
     "data": {
      "text/html": [
       "<div>\n",
       "<style scoped>\n",
       "    .dataframe tbody tr th:only-of-type {\n",
       "        vertical-align: middle;\n",
       "    }\n",
       "\n",
       "    .dataframe tbody tr th {\n",
       "        vertical-align: top;\n",
       "    }\n",
       "\n",
       "    .dataframe thead th {\n",
       "        text-align: right;\n",
       "    }\n",
       "</style>\n",
       "<table border=\"1\" class=\"dataframe\">\n",
       "  <thead>\n",
       "    <tr style=\"text-align: right;\">\n",
       "      <th></th>\n",
       "      <th>label</th>\n",
       "      <th>score</th>\n",
       "      <th>magnitude</th>\n",
       "    </tr>\n",
       "  </thead>\n",
       "  <tbody>\n",
       "    <tr>\n",
       "      <th>count</th>\n",
       "      <td>14328.000000</td>\n",
       "      <td>14328.000000</td>\n",
       "      <td>14328.000000</td>\n",
       "    </tr>\n",
       "    <tr>\n",
       "      <th>mean</th>\n",
       "      <td>-0.465313</td>\n",
       "      <td>-0.159422</td>\n",
       "      <td>0.956044</td>\n",
       "    </tr>\n",
       "    <tr>\n",
       "      <th>std</th>\n",
       "      <td>0.755924</td>\n",
       "      <td>0.458869</td>\n",
       "      <td>0.635465</td>\n",
       "    </tr>\n",
       "    <tr>\n",
       "      <th>min</th>\n",
       "      <td>-1.000000</td>\n",
       "      <td>-0.900000</td>\n",
       "      <td>0.000000</td>\n",
       "    </tr>\n",
       "    <tr>\n",
       "      <th>25%</th>\n",
       "      <td>-1.000000</td>\n",
       "      <td>-0.500000</td>\n",
       "      <td>0.500000</td>\n",
       "    </tr>\n",
       "    <tr>\n",
       "      <th>50%</th>\n",
       "      <td>-1.000000</td>\n",
       "      <td>-0.200000</td>\n",
       "      <td>0.800000</td>\n",
       "    </tr>\n",
       "    <tr>\n",
       "      <th>75%</th>\n",
       "      <td>0.000000</td>\n",
       "      <td>0.100000</td>\n",
       "      <td>1.400000</td>\n",
       "    </tr>\n",
       "    <tr>\n",
       "      <th>max</th>\n",
       "      <td>1.000000</td>\n",
       "      <td>0.900000</td>\n",
       "      <td>4.800000</td>\n",
       "    </tr>\n",
       "  </tbody>\n",
       "</table>\n",
       "</div>"
      ],
      "text/plain": [
       "              label         score     magnitude\n",
       "count  14328.000000  14328.000000  14328.000000\n",
       "mean      -0.465313     -0.159422      0.956044\n",
       "std        0.755924      0.458869      0.635465\n",
       "min       -1.000000     -0.900000      0.000000\n",
       "25%       -1.000000     -0.500000      0.500000\n",
       "50%       -1.000000     -0.200000      0.800000\n",
       "75%        0.000000      0.100000      1.400000\n",
       "max        1.000000      0.900000      4.800000"
      ]
     },
     "execution_count": 2,
     "metadata": {},
     "output_type": "execute_result"
    }
   ],
   "source": [
    "import numpy as np # linear algebra\n",
    "import pandas as pd # data processing, CSV file I/O (e.g. pd.read_csv)\n",
    "import matplotlib.pyplot as plt\n",
    "from sklearn.metrics import confusion_matrix,classification_report\n",
    "import seaborn as sns\n",
    "from imblearn.under_sampling import RandomUnderSampler\n",
    "import joblib\n",
    "\n",
    "df = pd.read_csv(\"train4.csv\", encoding='latin-1')\n",
    "#df.info()\n",
    "z=['label','score','magnitude']\n",
    "df=df[z]\n",
    "df.describe()"
   ]
  },
  {
   "cell_type": "code",
   "execution_count": 3,
   "metadata": {},
   "outputs": [],
   "source": [
    "a=['score','magnitude'] \n",
    "X=df[a]\n",
    "b=['label'] #label\n",
    "\n",
    "y=df[b].values.tolist()\n",
    "x1=df[['score']].values.tolist()\n",
    "x2=df[['magnitude']].values.tolist()\n",
    "\n",
    "for i in range(0,len(y)):\n",
    "    if y[i][0] == -1:\n",
    "        y[i]=0\n",
    "    elif y[i][0] == 0:\n",
    "        y[i]=1\n",
    "    else:\n",
    "        y[i]=2\n",
    "        \n",
    "ind=0\n",
    "while len(y)>ind :\n",
    "    if (y[ind] == 0 and x1[ind][0]>0) or (y[ind] == 2 and x1[ind][0]<0):\n",
    "        del y[ind]\n",
    "        del x1[ind]\n",
    "        del x2[ind]\n",
    "    else:\n",
    "        x1[ind]=x1[ind][0]\n",
    "        x2[ind]= x2[ind][0]\n",
    "        ind+=1\n",
    "        \n",
    "#list -> dataframe\n",
    "X = pd.DataFrame(list(zip(x1,x2)),columns = ['score','magnitude'])\n",
    "y = pd.DataFrame(y,columns = ['label'])"
   ]
  },
  {
   "cell_type": "code",
   "execution_count": 4,
   "metadata": {},
   "outputs": [],
   "source": [
    "rus = RandomUnderSampler(random_state = 21)\n",
    "X, y = rus.fit_sample(X, y)"
   ]
  },
  {
   "cell_type": "code",
   "execution_count": 5,
   "metadata": {},
   "outputs": [],
   "source": [
    "from sklearn.preprocessing import StandardScaler\n",
    "from sklearn.model_selection import train_test_split\n",
    "\n",
    "x_train, x_validation, y_train, y_validation = train_test_split(X, y, test_size = 0.2,random_state= 21,stratify=y)\n",
    "sc = StandardScaler()\n",
    "x_train = sc.fit_transform(x_train)\n",
    "x_validation = sc.transform(x_validation)\n",
    "#x_train"
   ]
  },
  {
   "cell_type": "code",
   "execution_count": 6,
   "metadata": {},
   "outputs": [
    {
     "ename": "ModuleNotFoundError",
     "evalue": "No module named 'keras'",
     "output_type": "error",
     "traceback": [
      "\u001b[1;31m---------------------------------------------------------------------------\u001b[0m",
      "\u001b[1;31mModuleNotFoundError\u001b[0m                       Traceback (most recent call last)",
      "\u001b[1;32m<ipython-input-6-b0001cb327eb>\u001b[0m in \u001b[0;36m<module>\u001b[1;34m\u001b[0m\n\u001b[1;32m----> 1\u001b[1;33m \u001b[1;32mfrom\u001b[0m \u001b[0mkeras\u001b[0m\u001b[1;33m.\u001b[0m\u001b[0mmodels\u001b[0m \u001b[1;32mimport\u001b[0m \u001b[0mSequential\u001b[0m\u001b[1;33m\u001b[0m\u001b[1;33m\u001b[0m\u001b[0m\n\u001b[0m\u001b[0;32m      2\u001b[0m \u001b[1;32mfrom\u001b[0m \u001b[0mkeras\u001b[0m\u001b[1;33m.\u001b[0m\u001b[0mlayers\u001b[0m \u001b[1;32mimport\u001b[0m \u001b[0mDense\u001b[0m\u001b[1;33m,\u001b[0m \u001b[0mActivation\u001b[0m\u001b[1;33m,\u001b[0m \u001b[0mDropout\u001b[0m\u001b[1;33m\u001b[0m\u001b[1;33m\u001b[0m\u001b[0m\n\u001b[0;32m      3\u001b[0m \u001b[1;32mfrom\u001b[0m \u001b[0mkeras\u001b[0m\u001b[1;33m.\u001b[0m\u001b[0mregularizers\u001b[0m \u001b[1;32mimport\u001b[0m \u001b[0ml2\u001b[0m\u001b[1;33m\u001b[0m\u001b[1;33m\u001b[0m\u001b[0m\n\u001b[0;32m      4\u001b[0m \u001b[1;33m\u001b[0m\u001b[0m\n\u001b[0;32m      5\u001b[0m \u001b[0mmodel\u001b[0m \u001b[1;33m=\u001b[0m \u001b[0mSequential\u001b[0m\u001b[1;33m(\u001b[0m\u001b[1;33m)\u001b[0m\u001b[1;33m\u001b[0m\u001b[1;33m\u001b[0m\u001b[0m\n",
      "\u001b[1;31mModuleNotFoundError\u001b[0m: No module named 'keras'"
     ]
    }
   ],
   "source": [
    "from keras.models import Sequential\n",
    "from keras.layers import Dense, Activation, Dropout\n",
    "from keras.regularizers import l2\n",
    "\n",
    "model = Sequential()\n",
    "model.add(Dense(8, activation=\"tanh\", input_shape = (x_train.shape[1],))) # Hidden Layer 1 that receives the Input from the Input Layer\n",
    "\n",
    "model.add(Dense(16,activation=\"tanh\")) # Hidden Layer 2\n",
    "model.add(Dropout(0.1))\n",
    "\n",
    "model.add(Dense(64,activation=\"tanh\")) # Hidden Layer 3\n",
    "model.add(Dropout(0.1))\n",
    "\n",
    "model.add(Dense(8,activation=\"tanh\")) # Hidden Layer 4\n",
    "\n",
    "model.add(Dense(3,activation=\"softmax\")) # Outout Layer\n",
    "\n",
    "model.summary()"
   ]
  },
  {
   "cell_type": "code",
   "execution_count": 504,
   "metadata": {},
   "outputs": [],
   "source": [
    "model.compile(optimizer='adam', loss = \"categorical_crossentropy\", metrics = ['accuracy'])"
   ]
  },
  {
   "cell_type": "code",
   "execution_count": 505,
   "metadata": {},
   "outputs": [
    {
     "name": "stdout",
     "output_type": "stream",
     "text": [
      "Train on 2979 samples, validate on 1468 samples\n",
      "Epoch 1/32\n",
      "2979/2979 [==============================] - 9s 3ms/step - loss: 1.1182 - acc: 0.2934 - val_loss: 1.0729 - val_acc: 0.3713\n",
      "Epoch 2/32\n",
      "2979/2979 [==============================] - 0s 47us/step - loss: 1.0698 - acc: 0.3870 - val_loss: 1.0378 - val_acc: 0.4373\n",
      "Epoch 3/32\n",
      "2979/2979 [==============================] - 0s 48us/step - loss: 1.0421 - acc: 0.4337 - val_loss: 1.0222 - val_acc: 0.4564\n",
      "Epoch 4/32\n",
      "2979/2979 [==============================] - 0s 36us/step - loss: 1.0237 - acc: 0.4673 - val_loss: 1.0146 - val_acc: 0.4544\n",
      "Epoch 5/32\n",
      "2979/2979 [==============================] - 0s 48us/step - loss: 1.0165 - acc: 0.4572 - val_loss: 1.0065 - val_acc: 0.4537\n",
      "Epoch 6/32\n",
      "2979/2979 [==============================] - 0s 48us/step - loss: 1.0121 - acc: 0.4538 - val_loss: 1.0012 - val_acc: 0.4537\n",
      "Epoch 7/32\n",
      "2979/2979 [==============================] - 0s 42us/step - loss: 1.0090 - acc: 0.4599 - val_loss: 0.9971 - val_acc: 0.4544\n",
      "Epoch 8/32\n",
      "2979/2979 [==============================] - 0s 49us/step - loss: 1.0064 - acc: 0.4616 - val_loss: 0.9929 - val_acc: 0.4544\n",
      "Epoch 9/32\n",
      "2979/2979 [==============================] - 0s 42us/step - loss: 0.9991 - acc: 0.4596 - val_loss: 0.9884 - val_acc: 0.4544\n",
      "Epoch 10/32\n",
      "2979/2979 [==============================] - 0s 41us/step - loss: 0.9975 - acc: 0.4562 - val_loss: 0.9856 - val_acc: 0.4537\n",
      "Epoch 11/32\n",
      "2979/2979 [==============================] - 0s 52us/step - loss: 0.9956 - acc: 0.4538 - val_loss: 0.9852 - val_acc: 0.4571\n",
      "Epoch 12/32\n",
      "2979/2979 [==============================] - 0s 59us/step - loss: 0.9984 - acc: 0.4508 - val_loss: 0.9842 - val_acc: 0.4571\n",
      "Epoch 13/32\n",
      "2979/2979 [==============================] - 0s 58us/step - loss: 0.9938 - acc: 0.4532 - val_loss: 0.9822 - val_acc: 0.4564\n",
      "Epoch 14/32\n",
      "2979/2979 [==============================] - 0s 55us/step - loss: 0.9943 - acc: 0.4549 - val_loss: 0.9821 - val_acc: 0.4564\n",
      "Epoch 15/32\n",
      "2979/2979 [==============================] - 0s 56us/step - loss: 0.9919 - acc: 0.4642 - val_loss: 0.9828 - val_acc: 0.4564\n",
      "Epoch 16/32\n",
      "2979/2979 [==============================] - 0s 51us/step - loss: 0.9935 - acc: 0.4642 - val_loss: 0.9823 - val_acc: 0.4564\n",
      "Epoch 17/32\n",
      "2979/2979 [==============================] - 0s 52us/step - loss: 0.9902 - acc: 0.4713 - val_loss: 0.9811 - val_acc: 0.4564\n",
      "Epoch 18/32\n",
      "2979/2979 [==============================] - 0s 50us/step - loss: 0.9931 - acc: 0.4616 - val_loss: 0.9823 - val_acc: 0.4564\n",
      "Epoch 19/32\n",
      "2979/2979 [==============================] - 0s 62us/step - loss: 0.9913 - acc: 0.4572 - val_loss: 0.9834 - val_acc: 0.4564\n",
      "Epoch 20/32\n",
      "2979/2979 [==============================] - 0s 98us/step - loss: 0.9914 - acc: 0.4646 - val_loss: 0.9826 - val_acc: 0.4564\n",
      "Epoch 21/32\n",
      "2979/2979 [==============================] - 0s 84us/step - loss: 0.9920 - acc: 0.4606 - val_loss: 0.9814 - val_acc: 0.4564\n",
      "Epoch 22/32\n",
      "2979/2979 [==============================] - 0s 104us/step - loss: 0.9907 - acc: 0.4673 - val_loss: 0.9820 - val_acc: 0.4564\n",
      "Epoch 23/32\n",
      "2979/2979 [==============================] - 0s 70us/step - loss: 0.9898 - acc: 0.4575 - val_loss: 0.9825 - val_acc: 0.4564\n",
      "Epoch 24/32\n",
      "2979/2979 [==============================] - 0s 81us/step - loss: 0.9902 - acc: 0.4629 - val_loss: 0.9814 - val_acc: 0.4564\n",
      "Epoch 25/32\n",
      "2979/2979 [==============================] - 0s 57us/step - loss: 0.9890 - acc: 0.4642 - val_loss: 0.9814 - val_acc: 0.4564\n",
      "Epoch 26/32\n",
      "2979/2979 [==============================] - 0s 52us/step - loss: 0.9894 - acc: 0.4700 - val_loss: 0.9821 - val_acc: 0.4564\n",
      "Epoch 27/32\n",
      "2979/2979 [==============================] - 0s 67us/step - loss: 0.9902 - acc: 0.4562 - val_loss: 0.9810 - val_acc: 0.4619\n",
      "Epoch 28/32\n",
      "2979/2979 [==============================] - 0s 52us/step - loss: 0.9897 - acc: 0.4666 - val_loss: 0.9810 - val_acc: 0.4564\n",
      "Epoch 29/32\n",
      "2979/2979 [==============================] - 0s 56us/step - loss: 0.9896 - acc: 0.4683 - val_loss: 0.9827 - val_acc: 0.4564\n",
      "Epoch 30/32\n",
      "2979/2979 [==============================] - 0s 53us/step - loss: 0.9900 - acc: 0.4612 - val_loss: 0.9820 - val_acc: 0.4564\n",
      "Epoch 31/32\n",
      "2979/2979 [==============================] - 0s 57us/step - loss: 0.9881 - acc: 0.4666 - val_loss: 0.9805 - val_acc: 0.4564\n",
      "Epoch 32/32\n",
      "2979/2979 [==============================] - 0s 48us/step - loss: 0.9873 - acc: 0.4676 - val_loss: 0.9806 - val_acc: 0.4619\n"
     ]
    }
   ],
   "source": [
    "history=model.fit(x_train, y_train,validation_split=0.33, batch_size =512, epochs = 32)"
   ]
  },
  {
   "cell_type": "code",
   "execution_count": 506,
   "metadata": {},
   "outputs": [
    {
     "name": "stdout",
     "output_type": "stream",
     "text": [
      "1112/1112 [==============================] - 0s 193us/step\n"
     ]
    }
   ],
   "source": [
    "test_loss, test_acc = model.evaluate(x_validation, y_validation)"
   ]
  },
  {
   "cell_type": "code",
   "execution_count": 507,
   "metadata": {},
   "outputs": [
    {
     "data": {
      "text/plain": [
       "array([[0.4206215 , 0.2464005 , 0.33297798],\n",
       "       [0.07979318, 0.4618809 , 0.45832592],\n",
       "       [0.06491105, 0.22397411, 0.7111148 ],\n",
       "       ...,\n",
       "       [0.4206215 , 0.2464005 , 0.33297798],\n",
       "       [0.07279682, 0.3906076 , 0.53659564],\n",
       "       [0.08612657, 0.5158821 , 0.39799136]], dtype=float32)"
      ]
     },
     "execution_count": 507,
     "metadata": {},
     "output_type": "execute_result"
    }
   ],
   "source": [
    "y_predict=model.predict(x_validation)"
   ]
  },
  {
   "cell_type": "code",
   "execution_count": 508,
   "metadata": {},
   "outputs": [
    {
     "name": "stdout",
     "output_type": "stream",
     "text": [
      "Test accuracy: 0.46762589949498073\n",
      "Test lost: 0.9954013378500081\n"
     ]
    }
   ],
   "source": [
    "print('Test accuracy:', test_acc)\n",
    "print('Test lost:', test_loss)"
   ]
  },
  {
   "cell_type": "code",
   "execution_count": 509,
   "metadata": {},
   "outputs": [
    {
     "name": "stdout",
     "output_type": "stream",
     "text": [
      "dict_keys(['val_loss', 'val_acc', 'loss', 'acc'])\n"
     ]
    },
    {
     "data": {
      "image/png": "[encoded data removed]",
      "text/plain": [
       "<Figure size 432x288 with 1 Axes>"
      ]
     },
     "metadata": {
      "needs_background": "light"
     },
     "output_type": "display_data"
    },
    {
     "data": {
      "image/png": "[encoded data removed]",
      "text/plain": [
       "<Figure size 432x288 with 1 Axes>"
      ]
     },
     "metadata": {
      "needs_background": "light"
     },
     "output_type": "display_data"
    }
   ],
   "source": [
    "print(history.history.keys())\n",
    "\n",
    "plt.plot(history.history['acc'])\n",
    "plt.plot(history.history['val_acc'])\n",
    "plt.title('model accuracy')\n",
    "plt.ylabel('accuracy')\n",
    "plt.xlabel('epoch')\n",
    "plt.legend(['train', 'test'], loc='upper left')\n",
    "plt.show()\n",
    "\n",
    "plt.plot(history.history['loss'])\n",
    "plt.plot(history.history['val_loss'])\n",
    "plt.title('model loss')\n",
    "plt.ylabel('loss')\n",
    "plt.xlabel('epoch')\n",
    "plt.legend(['train', 'test'], loc='upper right')\n",
    "plt.show()"
   ]
  }
 ],
 "metadata": {
  "kernelspec": {
   "display_name": "Python 3",
   "language": "python",
   "name": "python3"
  },
  "language_info": {
   "codemirror_mode": {
    "name": "ipython",
    "version": 3
   },
   "file_extension": ".py",
   "mimetype": "text/x-python",
   "name": "python",
   "nbconvert_exporter": "python",
   "pygments_lexer": "ipython3",
   "version": "3.8.3"
  }
 },
 "nbformat": 4,
 "nbformat_minor": 2
}
