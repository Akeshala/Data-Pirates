{
 "cells": [
  {
   "cell_type": "code",
   "execution_count": 1,
   "metadata": {},
   "outputs": [],
   "source": [
    "import findspark\n",
    "findspark.init()\n",
    "\n",
    "from pyspark import SparkContext,SparkConf\n",
    "conf = SparkConf().setAppName(\"test\").setMaster(\"local[4]\")\n",
    "sc = SparkContext.getOrCreate(conf=conf)"
   ]
  },
  {
   "cell_type": "code",
   "execution_count": 2,
   "metadata": {},
   "outputs": [],
   "source": [
    "myRDD = sc.parallelize([('Ross',19),('Joe',23)])"
   ]
  },
  {
   "cell_type": "code",
   "execution_count": 3,
   "metadata": {},
   "outputs": [
    {
     "data": {
      "text/plain": [
       "[('Ross', 19), ('Joe', 23)]"
      ]
     },
     "execution_count": 3,
     "metadata": {},
     "output_type": "execute_result"
    }
   ],
   "source": [
    "myRDD.take(2)"
   ]
  },
  {
   "cell_type": "code",
   "execution_count": 5,
   "metadata": {},
   "outputs": [
    {
     "data": {
      "text/plain": [
       "[('Ross', 19), ('Joe', 23)]"
      ]
     },
     "execution_count": 5,
     "metadata": {},
     "output_type": "execute_result"
    }
   ],
   "source": [
    "myRDD.collect()"
   ]
  },
  {
   "cell_type": "code",
   "execution_count": 40,
   "metadata": {},
   "outputs": [],
   "source": [
    "newRDD = sc.textFile(\"rddtest\")"
   ]
  },
  {
   "cell_type": "code",
   "execution_count": 41,
   "metadata": {},
   "outputs": [
    {
     "data": {
      "text/plain": [
       "['A paragraph is a series of related sentences developing a central idea, called the topic.',\n",
       " 'Try to think about paragraphs in terms of thematic unity: a paragraph is a sentence or a group of sentences that supports one central, unified idea.',\n",
       " 'Paragraphs add one idea at a time to your broader argument.',\n",
       " 'The oldest classical Greek and Latin writing had little or no space between words and could be written in boustrophedon (alternating directions). ',\n",
       " 'Over time, text direction (left to right) became standardized, and word dividers and terminal punctuation became common. ',\n",
       " 'The first way to divide sentences into groups was the original parágraphos, similar to an underscore at the beginning of the new group.',\n",
       " 'The Greek parágraphos evolved into the pilcrow (¶), which in English manuscripts in the Middle Ages can be seen inserted inline between sentences.',\n",
       " 'The hedera leaf (e.g. ☙) has also been used in the same way. ']"
      ]
     },
     "execution_count": 41,
     "metadata": {},
     "output_type": "execute_result"
    }
   ],
   "source": [
    "newRDD.collect()\n",
    "#return a list of lines in the text file"
   ]
  },
  {
   "cell_type": "code",
   "execution_count": 16,
   "metadata": {},
   "outputs": [],
   "source": [
    "csv_rdd = sc.textFile(\"test_bowl.csv\", minPartitions=4).map(lambda element:element.split(\"\\t\"))"
   ]
  },
  {
   "cell_type": "code",
   "execution_count": 17,
   "metadata": {},
   "outputs": [
    {
     "data": {
      "text/plain": [
       "[['Player,Span,Mat,Inns,Balls,Runs,Wkts,BBM,Ave,Econ,SR,5,10,Profile'],\n",
       " ['M Muralitharan�(ICC/SL),1992-2010,133,230,44039,18180,800,16/220,22.72,2.47,55,67,22,http://stats.espncricinfo.com/ci/content/player/49636.html'],\n",
       " ['SK Warne�(AUS),1992-2007,145,273,40705,17995,708,12/128,25.41,2.65,57.4,37,10,http://stats.espncricinfo.com/ci/content/player/8166.html'],\n",
       " ['A Kumble�(INDIA),1990-2008,132,236,40850,18355,619,14/149,29.65,2.69,65.9,35,8,http://stats.espncricinfo.com/ci/content/player/30176.html'],\n",
       " ['JM Anderson�(ENG),2003-2020,151,282,32779,15670,584,Nov-71,26.83,2.86,56.1,28,3,http://stats.espncricinfo.com/ci/content/player/8608.html']]"
      ]
     },
     "execution_count": 17,
     "metadata": {},
     "output_type": "execute_result"
    }
   ],
   "source": [
    "csv_rdd.take(5)"
   ]
  },
  {
   "cell_type": "code",
   "execution_count": 18,
   "metadata": {},
   "outputs": [
    {
     "data": {
      "text/plain": [
       "3004"
      ]
     },
     "execution_count": 18,
     "metadata": {},
     "output_type": "execute_result"
    }
   ],
   "source": [
    "csv_rdd.count()"
   ]
  },
  {
   "cell_type": "code",
   "execution_count": 42,
   "metadata": {},
   "outputs": [],
   "source": [
    "def func(lines):\n",
    "    lines = lines.lower()\n",
    "    lines = lines.split()\n",
    "    return lines\n",
    "\n",
    "split_rdd = newRDD.map(func)"
   ]
  },
  {
   "cell_type": "code",
   "execution_count": 43,
   "metadata": {},
   "outputs": [
    {
     "data": {
      "text/plain": [
       "[['a',\n",
       "  'paragraph',\n",
       "  'is',\n",
       "  'a',\n",
       "  'series',\n",
       "  'of',\n",
       "  'related',\n",
       "  'sentences',\n",
       "  'developing',\n",
       "  'a',\n",
       "  'central',\n",
       "  'idea,',\n",
       "  'called',\n",
       "  'the',\n",
       "  'topic.'],\n",
       " ['try',\n",
       "  'to',\n",
       "  'think',\n",
       "  'about',\n",
       "  'paragraphs',\n",
       "  'in',\n",
       "  'terms',\n",
       "  'of',\n",
       "  'thematic',\n",
       "  'unity:',\n",
       "  'a',\n",
       "  'paragraph',\n",
       "  'is',\n",
       "  'a',\n",
       "  'sentence',\n",
       "  'or',\n",
       "  'a',\n",
       "  'group',\n",
       "  'of',\n",
       "  'sentences',\n",
       "  'that',\n",
       "  'supports',\n",
       "  'one',\n",
       "  'central,',\n",
       "  'unified',\n",
       "  'idea.']]"
      ]
     },
     "execution_count": 43,
     "metadata": {},
     "output_type": "execute_result"
    }
   ],
   "source": [
    "split_rdd.take(2)"
   ]
  },
  {
   "cell_type": "code",
   "execution_count": 44,
   "metadata": {},
   "outputs": [
    {
     "data": {
      "text/plain": [
       "['A paragraph is a series of related sentences developing a central idea, called the topic.',\n",
       " 'Try to think about paragraphs in terms of thematic unity: a paragraph is a sentence or a group of sentences that supports one central, unified idea.',\n",
       " 'Paragraphs add one idea at a time to your broader argument.',\n",
       " 'The oldest classical Greek and Latin writing had little or no space between words and could be written in boustrophedon (alternating directions). ',\n",
       " 'Over time, text direction (left to right) became standardized, and word dividers and terminal punctuation became common. ']"
      ]
     },
     "execution_count": 44,
     "metadata": {},
     "output_type": "execute_result"
    }
   ],
   "source": [
    "newRDD.take(5)"
   ]
  },
  {
   "cell_type": "code",
   "execution_count": 45,
   "metadata": {},
   "outputs": [],
   "source": [
    "RDD1 = newRDD.flatMap(func)"
   ]
  },
  {
   "cell_type": "code",
   "execution_count": 46,
   "metadata": {},
   "outputs": [
    {
     "data": {
      "text/plain": [
       "['a', 'paragraph', 'is', 'a', 'series']"
      ]
     },
     "execution_count": 46,
     "metadata": {},
     "output_type": "execute_result"
    }
   ],
   "source": [
    "RDD1.take(5)"
   ]
  },
  {
   "cell_type": "code",
   "execution_count": 47,
   "metadata": {},
   "outputs": [],
   "source": [
    "stopwords = ['a','to','why','who','when']"
   ]
  },
  {
   "cell_type": "code",
   "execution_count": 52,
   "metadata": {},
   "outputs": [
    {
     "data": {
      "text/plain": [
       "['paragraph', 'is', 'series', 'of', 'related']"
      ]
     },
     "execution_count": 52,
     "metadata": {},
     "output_type": "execute_result"
    }
   ],
   "source": [
    "RDD2 = RDD1.filter(lambda x: x not in stopwords)\n",
    "RDD2.take(5)"
   ]
  },
  {
   "cell_type": "code",
   "execution_count": 54,
   "metadata": {},
   "outputs": [
    {
     "data": {
      "text/plain": [
       "['central', 'central,', 'classical', 'common.', 'called', 'could', 'can']"
      ]
     },
     "execution_count": 54,
     "metadata": {},
     "output_type": "execute_result"
    }
   ],
   "source": [
    "import re\n",
    "filteredRDD = RDD2.filter(lambda x: x.startswith('c'))\n",
    "filteredRDD.distinct().take(20)"
   ]
  },
  {
   "cell_type": "code",
   "execution_count": 55,
   "metadata": {},
   "outputs": [],
   "source": [
    "rdd_mapped = RDD2.map(lambda x:(x,1))\n",
    "rdd_grouped = rdd_mapped.groupByKey()\n",
    "rdd_frequecy = rdd_grouped.mapValues(sum).map(lambda x: (x[1],x[0])).sortByKey(False)"
   ]
  },
  {
   "cell_type": "code",
   "execution_count": 57,
   "metadata": {},
   "outputs": [
    {
     "data": {
      "text/plain": [
       "[(11, 'the'), (5, 'in'), (4, 'of'), (4, 'and'), (3, 'sentences')]"
      ]
     },
     "execution_count": 57,
     "metadata": {},
     "output_type": "execute_result"
    }
   ],
   "source": [
    "rdd_frequecy.take(5)"
   ]
  },
  {
   "cell_type": "code",
   "execution_count": null,
   "metadata": {},
   "outputs": [],
   "source": []
  },
  {
   "cell_type": "code",
   "execution_count": null,
   "metadata": {},
   "outputs": [],
   "source": []
  }
 ],
 "metadata": {
  "kernelspec": {
   "display_name": "Python 3",
   "language": "python",
   "name": "python3"
  },
  "language_info": {
   "codemirror_mode": {
    "name": "ipython",
    "version": 3
   },
   "file_extension": ".py",
   "mimetype": "text/x-python",
   "name": "python",
   "nbconvert_exporter": "python",
   "pygments_lexer": "ipython3",
   "version": "3.8.3"
  }
 },
 "nbformat": 4,
 "nbformat_minor": 4
}
