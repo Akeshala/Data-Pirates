{
 "cells": [
  {
   "cell_type": "code",
   "execution_count": 445,
   "metadata": {},
   "outputs": [
    {
     "name": "stdout",
     "output_type": "stream",
     "text": [
      "<class 'pandas.core.frame.DataFrame'>\n",
      "RangeIndex: 85 entries, 0 to 84\n",
      "Data columns (total 5 columns):\n",
      "empty        0 non-null float64\n",
      "Phrase       85 non-null object\n",
      "Score        85 non-null float64\n",
      "Magnitude    85 non-null float64\n",
      "Label        85 non-null float64\n",
      "dtypes: float64(4), object(1)\n",
      "memory usage: 3.4+ KB\n"
     ]
    }
   ],
   "source": [
    "import numpy as np # linear algebra\n",
    "import pandas as pd # data processing, CSV file I/O (e.g. pd.read_csv)\n",
    "import matplotlib.pyplot as plt\n",
    "from sklearn.ensemble import RandomForestClassifier\n",
    "from sklearn.metrics import confusion_matrix\n",
    "from sklearn.externals import joblib\n",
    "\n",
    "df = pd.read_csv(\"train.csv\", encoding='latin-1')\n",
    "df.info()"
   ]
  },
  {
   "cell_type": "code",
   "execution_count": 446,
   "metadata": {},
   "outputs": [],
   "source": [
    "a=['Score','Magnitude']\n",
    "X=df[a]\n",
    "b=['Label']\n",
    "y=df[b]"
   ]
  },
  {
   "cell_type": "code",
   "execution_count": 447,
   "metadata": {},
   "outputs": [],
   "source": [
    "from sklearn.preprocessing import StandardScaler\n",
    "from sklearn.model_selection import train_test_split\n",
    "\n",
    "x_train, x_validation, y_train, y_validation = train_test_split(X, y, test_size = 0.2,random_state= 21,stratify=y)\n",
    "sc = StandardScaler()\n",
    "x_train = sc.fit_transform(x_train)\n",
    "x_validation = sc.transform(x_validation)\n",
    "#x_train"
   ]
  },
  {
   "cell_type": "code",
   "execution_count": 448,
   "metadata": {},
   "outputs": [
    {
     "name": "stderr",
     "output_type": "stream",
     "text": [
      "C:\\Users\\AkeshalaMarasinghe\\.conda\\envs\\HackStat2.0\\lib\\site-packages\\sklearn\\preprocessing\\label.py:219: DataConversionWarning: A column-vector y was passed when a 1d array was expected. Please change the shape of y to (n_samples, ), for example using ravel().\n",
      "  y = column_or_1d(y, warn=True)\n",
      "C:\\Users\\AkeshalaMarasinghe\\.conda\\envs\\HackStat2.0\\lib\\site-packages\\sklearn\\preprocessing\\label.py:252: DataConversionWarning: A column-vector y was passed when a 1d array was expected. Please change the shape of y to (n_samples, ), for example using ravel().\n",
      "  y = column_or_1d(y, warn=True)\n"
     ]
    }
   ],
   "source": [
    "from keras.utils import np_utils\n",
    "from sklearn.preprocessing import LabelEncoder\n",
    "\n",
    "encoder = LabelEncoder()\n",
    "encoder.fit(y_train)\n",
    "y_train=encoder.transform(y_train)\n",
    "\n",
    "encoder.fit(y_validation)\n",
    "y_validation=encoder.transform(y_validation)\n",
    "\n",
    "y_train = np_utils.to_categorical(y_train)\n",
    "y_validation = np_utils.to_categorical(y_validation)"
   ]
  },
  {
   "cell_type": "code",
   "execution_count": 449,
   "metadata": {},
   "outputs": [
    {
     "name": "stdout",
     "output_type": "stream",
     "text": [
      "_________________________________________________________________\n",
      "Layer (type)                 Output Shape              Param #   \n",
      "=================================================================\n",
      "dense_207 (Dense)            (None, 8)                 24        \n",
      "_________________________________________________________________\n",
      "dense_208 (Dense)            (None, 16)                144       \n",
      "_________________________________________________________________\n",
      "dropout_33 (Dropout)         (None, 16)                0         \n",
      "_________________________________________________________________\n",
      "dense_209 (Dense)            (None, 64)                1088      \n",
      "_________________________________________________________________\n",
      "dropout_34 (Dropout)         (None, 64)                0         \n",
      "_________________________________________________________________\n",
      "dense_210 (Dense)            (None, 8)                 520       \n",
      "_________________________________________________________________\n",
      "dense_211 (Dense)            (None, 3)                 27        \n",
      "=================================================================\n",
      "Total params: 1,803\n",
      "Trainable params: 1,803\n",
      "Non-trainable params: 0\n",
      "_________________________________________________________________\n"
     ]
    }
   ],
   "source": [
    "from keras.models import Sequential\n",
    "from keras.layers import Dense, Activation, Dropout\n",
    "from keras.regularizers import l2\n",
    "\n",
    "model = Sequential()\n",
    "model.add(Dense(8, activation=\"tanh\", input_shape = (x_train.shape[1],))) # Hidden Layer 1 that receives the Input from the Input Layer\n",
    "\n",
    "model.add(Dense(16,activation=\"tanh\")) # Hidden Layer 2\n",
    "model.add(Dropout(0.1))\n",
    "\n",
    "model.add(Dense(64,activation=\"tanh\")) # Hidden Layer 3\n",
    "model.add(Dropout(0.1))\n",
    "\n",
    "model.add(Dense(8,activation=\"tanh\")) # Hidden Layer 4\n",
    "\n",
    "model.add(Dense(3,activation=\"softmax\")) # Outout Layer\n",
    "\n",
    "model.summary()"
   ]
  },
  {
   "cell_type": "code",
   "execution_count": 450,
   "metadata": {},
   "outputs": [],
   "source": [
    "model.compile(optimizer='adam', loss = \"categorical_crossentropy\", metrics = ['accuracy'])"
   ]
  },
  {
   "cell_type": "code",
   "execution_count": 451,
   "metadata": {},
   "outputs": [
    {
     "name": "stdout",
     "output_type": "stream",
     "text": [
      "Train on 45 samples, validate on 23 samples\n",
      "Epoch 1/32\n",
      "45/45 [==============================] - 14s 303ms/step - loss: 1.0131 - acc: 0.5556 - val_loss: 0.9867 - val_acc: 0.5217\n",
      "Epoch 2/32\n",
      "45/45 [==============================] - 0s 728us/step - loss: 0.9488 - acc: 0.6667 - val_loss: 0.9542 - val_acc: 0.4348\n",
      "Epoch 3/32\n",
      "45/45 [==============================] - 0s 604us/step - loss: 0.8932 - acc: 0.6444 - val_loss: 0.9253 - val_acc: 0.6087\n",
      "Epoch 4/32\n",
      "45/45 [==============================] - 0s 347us/step - loss: 0.8193 - acc: 0.6889 - val_loss: 0.9000 - val_acc: 0.6087\n",
      "Epoch 5/32\n",
      "45/45 [==============================] - 0s 742us/step - loss: 0.7927 - acc: 0.6444 - val_loss: 0.8781 - val_acc: 0.6957\n",
      "Epoch 6/32\n",
      "45/45 [==============================] - 0s 961us/step - loss: 0.7863 - acc: 0.7111 - val_loss: 0.8589 - val_acc: 0.6957\n",
      "Epoch 7/32\n",
      "45/45 [==============================] - 0s 677us/step - loss: 0.7359 - acc: 0.8000 - val_loss: 0.8415 - val_acc: 0.7391\n",
      "Epoch 8/32\n",
      "45/45 [==============================] - 0s 649us/step - loss: 0.7038 - acc: 0.7778 - val_loss: 0.8258 - val_acc: 0.7391\n",
      "Epoch 9/32\n",
      "45/45 [==============================] - 0s 717us/step - loss: 0.6871 - acc: 0.8222 - val_loss: 0.8114 - val_acc: 0.7391\n",
      "Epoch 10/32\n",
      "45/45 [==============================] - 0s 817us/step - loss: 0.6887 - acc: 0.7778 - val_loss: 0.7980 - val_acc: 0.7826\n",
      "Epoch 11/32\n",
      "45/45 [==============================] - 0s 730us/step - loss: 0.6658 - acc: 0.8222 - val_loss: 0.7855 - val_acc: 0.7826\n",
      "Epoch 12/32\n",
      "45/45 [==============================] - 0s 1ms/step - loss: 0.6294 - acc: 0.8222 - val_loss: 0.7735 - val_acc: 0.7826\n",
      "Epoch 13/32\n",
      "45/45 [==============================] - 0s 518us/step - loss: 0.6302 - acc: 0.8000 - val_loss: 0.7614 - val_acc: 0.7826\n",
      "Epoch 14/32\n",
      "45/45 [==============================] - 0s 497us/step - loss: 0.6004 - acc: 0.8667 - val_loss: 0.7492 - val_acc: 0.7826\n",
      "Epoch 15/32\n",
      "45/45 [==============================] - 0s 898us/step - loss: 0.5988 - acc: 0.8000 - val_loss: 0.7374 - val_acc: 0.7826\n",
      "Epoch 16/32\n",
      "45/45 [==============================] - 0s 498us/step - loss: 0.5759 - acc: 0.8222 - val_loss: 0.7254 - val_acc: 0.7826\n",
      "Epoch 17/32\n",
      "45/45 [==============================] - 0s 766us/step - loss: 0.5449 - acc: 0.8667 - val_loss: 0.7139 - val_acc: 0.7826\n",
      "Epoch 18/32\n",
      "45/45 [==============================] - 0s 644us/step - loss: 0.5582 - acc: 0.8667 - val_loss: 0.7033 - val_acc: 0.7826\n",
      "Epoch 19/32\n",
      "45/45 [==============================] - 0s 583us/step - loss: 0.5364 - acc: 0.8444 - val_loss: 0.6931 - val_acc: 0.7826\n",
      "Epoch 20/32\n",
      "45/45 [==============================] - 0s 530us/step - loss: 0.5258 - acc: 0.8444 - val_loss: 0.6832 - val_acc: 0.7826\n",
      "Epoch 21/32\n",
      "45/45 [==============================] - 0s 537us/step - loss: 0.5032 - acc: 0.8667 - val_loss: 0.6740 - val_acc: 0.7391\n",
      "Epoch 22/32\n",
      "45/45 [==============================] - 0s 708us/step - loss: 0.4997 - acc: 0.8889 - val_loss: 0.6647 - val_acc: 0.7391\n",
      "Epoch 23/32\n",
      "45/45 [==============================] - 0s 916us/step - loss: 0.5183 - acc: 0.8889 - val_loss: 0.6554 - val_acc: 0.7826\n",
      "Epoch 24/32\n",
      "45/45 [==============================] - 0s 434us/step - loss: 0.4726 - acc: 0.8889 - val_loss: 0.6465 - val_acc: 0.7826\n",
      "Epoch 25/32\n",
      "45/45 [==============================] - 0s 474us/step - loss: 0.4774 - acc: 0.8889 - val_loss: 0.6384 - val_acc: 0.7826\n",
      "Epoch 26/32\n",
      "45/45 [==============================] - 0s 631us/step - loss: 0.4633 - acc: 0.8667 - val_loss: 0.6309 - val_acc: 0.7826\n",
      "Epoch 27/32\n",
      "45/45 [==============================] - 0s 499us/step - loss: 0.4765 - acc: 0.8667 - val_loss: 0.6241 - val_acc: 0.7826\n",
      "Epoch 28/32\n",
      "45/45 [==============================] - 0s 541us/step - loss: 0.4595 - acc: 0.8889 - val_loss: 0.6177 - val_acc: 0.7826\n",
      "Epoch 29/32\n",
      "45/45 [==============================] - 0s 469us/step - loss: 0.4511 - acc: 0.8667 - val_loss: 0.6118 - val_acc: 0.7826\n",
      "Epoch 30/32\n",
      "45/45 [==============================] - 0s 671us/step - loss: 0.4528 - acc: 0.8444 - val_loss: 0.6066 - val_acc: 0.7826\n",
      "Epoch 31/32\n",
      "45/45 [==============================] - 0s 530us/step - loss: 0.4334 - acc: 0.8444 - val_loss: 0.6021 - val_acc: 0.7826\n",
      "Epoch 32/32\n",
      "45/45 [==============================] - 0s 408us/step - loss: 0.4270 - acc: 0.8444 - val_loss: 0.5983 - val_acc: 0.7826\n"
     ]
    }
   ],
   "source": [
    "history=model.fit(x_train, y_train,validation_split=0.33, batch_size =32, epochs = 32)"
   ]
  },
  {
   "cell_type": "code",
   "execution_count": 452,
   "metadata": {},
   "outputs": [
    {
     "name": "stdout",
     "output_type": "stream",
     "text": [
      "\r",
      "17/17 [==============================] - 0s 1ms/step\n"
     ]
    }
   ],
   "source": [
    "test_loss, test_acc = model.evaluate(x_validation, y_validation)"
   ]
  },
  {
   "cell_type": "code",
   "execution_count": 453,
   "metadata": {},
   "outputs": [
    {
     "data": {
      "text/plain": [
       "array([[0.22140133, 0.08289798, 0.6957007 ],\n",
       "       [0.8937364 , 0.06882521, 0.03743839],\n",
       "       [0.04656256, 0.14196846, 0.811469  ],\n",
       "       [0.04656256, 0.14196846, 0.811469  ],\n",
       "       [0.16245049, 0.62214196, 0.21540755],\n",
       "       [0.05684918, 0.39192718, 0.55122364],\n",
       "       [0.766879  , 0.16940786, 0.06371316],\n",
       "       [0.9147607 , 0.05263971, 0.03259961],\n",
       "       [0.6306324 , 0.28120938, 0.08815827],\n",
       "       [0.34122896, 0.51871526, 0.14005576],\n",
       "       [0.04400691, 0.15659665, 0.79939646],\n",
       "       [0.19634195, 0.62807053, 0.17558752],\n",
       "       [0.39315474, 0.10722359, 0.4996217 ],\n",
       "       [0.04400691, 0.15659665, 0.79939646],\n",
       "       [0.04370194, 0.28824043, 0.66805756],\n",
       "       [0.8243752 , 0.04875975, 0.12686504],\n",
       "       [0.04656256, 0.14196846, 0.811469  ]], dtype=float32)"
      ]
     },
     "execution_count": 453,
     "metadata": {},
     "output_type": "execute_result"
    }
   ],
   "source": [
    "y_predict=model.predict(x_validation)\n",
    "y_predict"
   ]
  },
  {
   "cell_type": "code",
   "execution_count": 454,
   "metadata": {},
   "outputs": [
    {
     "name": "stdout",
     "output_type": "stream",
     "text": [
      "Test accuracy: 0.9411764740943909\n",
      "Test lost: 0.3580601215362549\n"
     ]
    }
   ],
   "source": [
    "print('Test accuracy:', test_acc)\n",
    "print('Test lost:', test_loss)"
   ]
  },
  {
   "cell_type": "code",
   "execution_count": 455,
   "metadata": {},
   "outputs": [
    {
     "name": "stdout",
     "output_type": "stream",
     "text": [
      "dict_keys(['val_loss', 'val_acc', 'loss', 'acc'])\n"
     ]
    },
    {
     "data": {
      "image/png": "[encoded data removed]",
      "text/plain": [
       "<Figure size 432x288 with 1 Axes>"
      ]
     },
     "metadata": {
      "needs_background": "light"
     },
     "output_type": "display_data"
    },
    {
     "data": {
      "image/png": "[encoded data removed]",
      "text/plain": [
       "<Figure size 432x288 with 1 Axes>"
      ]
     },
     "metadata": {
      "needs_background": "light"
     },
     "output_type": "display_data"
    }
   ],
   "source": [
    "print(history.history.keys())\n",
    "\n",
    "plt.plot(history.history['acc'])\n",
    "plt.plot(history.history['val_acc'])\n",
    "plt.title('model accuracy')\n",
    "plt.ylabel('accuracy')\n",
    "plt.xlabel('epoch')\n",
    "plt.legend(['train', 'test'], loc='upper left')\n",
    "plt.show()\n",
    "\n",
    "plt.plot(history.history['loss'])\n",
    "plt.plot(history.history['val_loss'])\n",
    "plt.title('model loss')\n",
    "plt.ylabel('loss')\n",
    "plt.xlabel('epoch')\n",
    "plt.legend(['train', 'test'], loc='upper right')\n",
    "plt.show()"
   ]
  },
  {
   "cell_type": "code",
   "execution_count": null,
   "metadata": {},
   "outputs": [],
   "source": []
  }
 ],
 "metadata": {
  "kernelspec": {
   "display_name": "Python 3",
   "language": "python",
   "name": "python3"
  },
  "language_info": {
   "codemirror_mode": {
    "name": "ipython",
    "version": 3
   },
   "file_extension": ".py",
   "mimetype": "text/x-python",
   "name": "python",
   "nbconvert_exporter": "python",
   "pygments_lexer": "ipython3",
   "version": "3.7.4"
  }
 },
 "nbformat": 4,
 "nbformat_minor": 2
}
