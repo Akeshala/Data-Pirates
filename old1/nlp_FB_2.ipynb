{
 "cells": [
  {
   "cell_type": "code",
   "execution_count": 4,
   "metadata": {},
   "outputs": [
    {
     "data": {
      "text/html": [
       "<div>\n",
       "<style scoped>\n",
       "    .dataframe tbody tr th:only-of-type {\n",
       "        vertical-align: middle;\n",
       "    }\n",
       "\n",
       "    .dataframe tbody tr th {\n",
       "        vertical-align: top;\n",
       "    }\n",
       "\n",
       "    .dataframe thead th {\n",
       "        text-align: right;\n",
       "    }\n",
       "</style>\n",
       "<table border=\"1\" class=\"dataframe\">\n",
       "  <thead>\n",
       "    <tr style=\"text-align: right;\">\n",
       "      <th></th>\n",
       "      <th>label</th>\n",
       "      <th>score</th>\n",
       "      <th>magnitude</th>\n",
       "      <th>text</th>\n",
       "    </tr>\n",
       "  </thead>\n",
       "  <tbody>\n",
       "    <tr>\n",
       "      <th>0</th>\n",
       "      <td>-1</td>\n",
       "      <td>-0.6</td>\n",
       "      <td>0.6</td>\n",
       "      <td>@AmericanAir that's if it is ever complete and...</td>\n",
       "    </tr>\n",
       "    <tr>\n",
       "      <th>1</th>\n",
       "      <td>-1</td>\n",
       "      <td>-0.3</td>\n",
       "      <td>2.3</td>\n",
       "      <td>@AmericanAir this might look good but the pita...</td>\n",
       "    </tr>\n",
       "    <tr>\n",
       "      <th>2</th>\n",
       "      <td>-1</td>\n",
       "      <td>-0.6</td>\n",
       "      <td>1.8</td>\n",
       "      <td>@AmericanAir Where are your tickets offices in...</td>\n",
       "    </tr>\n",
       "    <tr>\n",
       "      <th>3</th>\n",
       "      <td>-1</td>\n",
       "      <td>-0.7</td>\n",
       "      <td>0.7</td>\n",
       "      <td>@AmericanAir has Cancelled Flighted their last...</td>\n",
       "    </tr>\n",
       "    <tr>\n",
       "      <th>4</th>\n",
       "      <td>1</td>\n",
       "      <td>0.0</td>\n",
       "      <td>0.1</td>\n",
       "      <td>\"LOL you guys are so on it\" - me, had this bee...</td>\n",
       "    </tr>\n",
       "    <tr>\n",
       "      <th>...</th>\n",
       "      <td>...</td>\n",
       "      <td>...</td>\n",
       "      <td>...</td>\n",
       "      <td>...</td>\n",
       "    </tr>\n",
       "    <tr>\n",
       "      <th>14323</th>\n",
       "      <td>0</td>\n",
       "      <td>0.0</td>\n",
       "      <td>0.6</td>\n",
       "      <td>Ã¯Â¿Â½Ã¯Â¿Â½Ã¯Â¿Â½@united: @rikrik__ What made...</td>\n",
       "    </tr>\n",
       "    <tr>\n",
       "      <th>14324</th>\n",
       "      <td>-1</td>\n",
       "      <td>0.0</td>\n",
       "      <td>0.8</td>\n",
       "      <td>Ã¯Â¿Â½Ã¯Â¿Â½Ã¯Â¿Â½@united: @rikrik__ What made...</td>\n",
       "    </tr>\n",
       "    <tr>\n",
       "      <th>14325</th>\n",
       "      <td>-1</td>\n",
       "      <td>-0.3</td>\n",
       "      <td>1.1</td>\n",
       "      <td>Ã¯Â¿Â½Ã¯Â¿Â½Ã¯Â¿Â½@united: @rikrik__ What made...</td>\n",
       "    </tr>\n",
       "    <tr>\n",
       "      <th>14326</th>\n",
       "      <td>1</td>\n",
       "      <td>0.0</td>\n",
       "      <td>0.1</td>\n",
       "      <td>Ã¯Â¿Â½Ã¯Â¿Â½Ã¯Â¿Â½@united: Looking for a reaso...</td>\n",
       "    </tr>\n",
       "    <tr>\n",
       "      <th>14327</th>\n",
       "      <td>-1</td>\n",
       "      <td>-0.7</td>\n",
       "      <td>2.1</td>\n",
       "      <td>Ã¯Â¿Â½Ã¯Â¿Â½Ã¯Â¿Â½@united:That's not something...</td>\n",
       "    </tr>\n",
       "  </tbody>\n",
       "</table>\n",
       "<p>14328 rows × 4 columns</p>\n",
       "</div>"
      ],
      "text/plain": [
       "       label  score  magnitude  \\\n",
       "0         -1   -0.6        0.6   \n",
       "1         -1   -0.3        2.3   \n",
       "2         -1   -0.6        1.8   \n",
       "3         -1   -0.7        0.7   \n",
       "4          1    0.0        0.1   \n",
       "...      ...    ...        ...   \n",
       "14323      0    0.0        0.6   \n",
       "14324     -1    0.0        0.8   \n",
       "14325     -1   -0.3        1.1   \n",
       "14326      1    0.0        0.1   \n",
       "14327     -1   -0.7        2.1   \n",
       "\n",
       "                                                    text  \n",
       "0      @AmericanAir that's if it is ever complete and...  \n",
       "1      @AmericanAir this might look good but the pita...  \n",
       "2      @AmericanAir Where are your tickets offices in...  \n",
       "3      @AmericanAir has Cancelled Flighted their last...  \n",
       "4      \"LOL you guys are so on it\" - me, had this bee...  \n",
       "...                                                  ...  \n",
       "14323  Ã¯Â¿Â½Ã¯Â¿Â½Ã¯Â¿Â½@united: @rikrik__ What made...  \n",
       "14324  Ã¯Â¿Â½Ã¯Â¿Â½Ã¯Â¿Â½@united: @rikrik__ What made...  \n",
       "14325  Ã¯Â¿Â½Ã¯Â¿Â½Ã¯Â¿Â½@united: @rikrik__ What made...  \n",
       "14326  Ã¯Â¿Â½Ã¯Â¿Â½Ã¯Â¿Â½@united: Looking for a reaso...  \n",
       "14327  Ã¯Â¿Â½Ã¯Â¿Â½Ã¯Â¿Â½@united:That's not something...  \n",
       "\n",
       "[14328 rows x 4 columns]"
      ]
     },
     "execution_count": 4,
     "metadata": {},
     "output_type": "execute_result"
    }
   ],
   "source": [
    "import numpy as np\n",
    "import pandas as pd \n",
    "import matplotlib.pyplot as plt\n",
    "from sklearn.metrics import confusion_matrix,classification_report\n",
    "import seaborn as sns\n",
    "from imblearn.under_sampling import RandomUnderSampler\n",
    "from sklearn.metrics import roc_auc_score\n",
    "from sklearn import preprocessing\n",
    "import joblib\n",
    "\n",
    "df = pd.read_csv(\"train4.csv\", encoding='latin-1')\n",
    "#df.info()\n",
    "\n",
    "#print ('Count category \\n',df.label.value_counts())\n",
    "#df['id'] = df.index + 1 #add new column\n",
    "#df\n",
    "z=['label','score','magnitude','text']\n",
    "df=df[z]\n",
    "df"
   ]
  },
  {
   "cell_type": "raw",
   "metadata": {},
   "source": [
    "#feature engineering\n",
    "import featuretools as ft\n",
    "\n",
    "z= ['id','score','magnitude','label'] \n",
    "df= df[z]\n",
    "es = ft.EntitySet(id = 'df')\n",
    "es.entity_from_dataframe(entity_id = 'df', dataframe = df, index = 'id')\n",
    "\n",
    "feature_matrix, feature_names = ft.dfs(entityset=es, target_entity = 'df')\n",
    "\n",
    "feature_matrix.columns"
   ]
  },
  {
   "cell_type": "raw",
   "metadata": {},
   "source": [
    "correlations = df.corr()\n",
    "# plot correlation matrix\n",
    "fig = plt.figure()\n",
    "ax = fig.add_subplot()\n",
    "cax = ax.matshow(correlations, vmin=-1, vmax=1)\n",
    "fig.colorbar(cax)\n",
    "ticks = np.arange(0,3,1)\n",
    "ax.set_xticks(ticks)\n",
    "ax.set_yticks(ticks)\n",
    "ax.set_xticklabels(['label','score','magnitude'])\n",
    "ax.set_yticklabels(['label','score','magnitude'])\n",
    "plt.rcParams[\"figure.figsize\"] = (8,8)\n",
    "plt.show()\n",
    "print(correlations)"
   ]
  },
  {
   "cell_type": "code",
   "execution_count": 3,
   "metadata": {},
   "outputs": [],
   "source": [
    "a=['score','magnitude'] \n",
    "X=df[a]\n",
    "b=['label'] #label\n",
    "\n",
    "y=df[b].values.tolist()\n",
    "x1=df[['score']].values.tolist()\n",
    "x2=df[['magnitude']].values.tolist()\n",
    "\n",
    "for i in range(0,len(y)):\n",
    "    if y[i][0] == -1:\n",
    "        y[i]=0\n",
    "    elif y[i][0] == 0:\n",
    "        y[i]=1\n",
    "    else:\n",
    "        y[i]=2\n",
    "        \n",
    "ind=0\n",
    "while len(y)>ind :\n",
    "    if (y[ind] == 0 and x1[ind][0]>0) or (y[ind] == 2 and x1[ind][0]<0):\n",
    "        del y[ind]\n",
    "        del x1[ind]\n",
    "        del x2[ind]\n",
    "    else:\n",
    "        x1[ind]=x1[ind][0]\n",
    "        x2[ind]= x2[ind][0]\n",
    "        ind+=1\n",
    "        \n",
    "#list -> dataframe\n",
    "X = pd.DataFrame(list(zip(x1,x2)),columns = ['score','magnitude'])\n",
    "y = pd.DataFrame(y,columns = ['label'])"
   ]
  },
  {
   "cell_type": "code",
   "execution_count": 4,
   "metadata": {},
   "outputs": [
    {
     "data": {
      "text/plain": [
       "<AxesSubplot:xlabel='label', ylabel='score'>"
      ]
     },
     "execution_count": 4,
     "metadata": {},
     "output_type": "execute_result"
    },
    {
     "data": {
      "image/png": "[encoded data removed]",
      "text/plain": [
       "<Figure size 432x288 with 1 Axes>"
      ]
     },
     "metadata": {
      "needs_background": "light"
     },
     "output_type": "display_data"
    }
   ],
   "source": [
    "data = pd.concat([y,X],axis = 1)\n",
    "sns.boxplot(x='label', y='score', data=data)\n"
   ]
  },
  {
   "cell_type": "code",
   "execution_count": 5,
   "metadata": {},
   "outputs": [
    {
     "data": {
      "text/plain": [
       "<AxesSubplot:xlabel='label', ylabel='magnitude'>"
      ]
     },
     "execution_count": 5,
     "metadata": {},
     "output_type": "execute_result"
    },
    {
     "data": {
      "image/png": "[encoded data removed]",
      "text/plain": [
       "<Figure size 432x288 with 1 Axes>"
      ]
     },
     "metadata": {
      "needs_background": "light"
     },
     "output_type": "display_data"
    }
   ],
   "source": [
    "sns.boxplot(x='label', y='magnitude', data=data)"
   ]
  },
  {
   "cell_type": "code",
   "execution_count": 6,
   "metadata": {},
   "outputs": [],
   "source": [
    "rus = RandomUnderSampler(random_state = 21)\n",
    "X, y = rus.fit_sample(X, y)"
   ]
  },
  {
   "cell_type": "code",
   "execution_count": 7,
   "metadata": {},
   "outputs": [
    {
     "data": {
      "text/plain": [
       "array([[ 0.52349543, -0.49586146],\n",
       "       [ 1.5228137 ,  2.50470717],\n",
       "       [ 1.5228137 , -0.19580459],\n",
       "       ...,\n",
       "       [ 0.32363175, -0.79591836],\n",
       "       [ 1.5228137 , -0.19580459],\n",
       "       [ 0.72335907,  1.00442295]])"
      ]
     },
     "execution_count": 7,
     "metadata": {},
     "output_type": "execute_result"
    }
   ],
   "source": [
    "from sklearn.preprocessing import StandardScaler\n",
    "from sklearn.model_selection import train_test_split\n",
    "\n",
    "sc = StandardScaler()\n",
    "#stratify divide the data set keeping same propotion for y\n",
    "x_train, x_validation, y_train, y_validation = train_test_split(X, y, test_size = 0.2,random_state= 21,stratify=y)\n",
    "\n",
    "x_train = sc.fit_transform(x_train)\n",
    "x_validation = sc.transform(x_validation)\n",
    "x_validation"
   ]
  },
  {
   "cell_type": "code",
   "execution_count": 8,
   "metadata": {},
   "outputs": [
    {
     "name": "stderr",
     "output_type": "stream",
     "text": [
      "<ipython-input-8-ba9cd9182424>:4: DataConversionWarning: A column-vector y was passed when a 1d array was expected. Please change the shape of y to (n_samples,), for example using ravel().\n",
      "  classifier.fit(x_train, y_train)\n"
     ]
    },
    {
     "name": "stdout",
     "output_type": "stream",
     "text": [
      "Accuracy = 0.7840481565086531\n"
     ]
    }
   ],
   "source": [
    "from sklearn.ensemble import RandomForestClassifier\n",
    "\n",
    "classifier = RandomForestClassifier(random_state = 21)\n",
    "classifier.fit(x_train, y_train)\n",
    "\n",
    "joblib.dump(classifier, 'randomforestmodel.pkl') \n",
    "\n",
    "classifier = joblib.load('randomforestmodel.pkl')\n",
    "\n",
    "y_pred = classifier.predict(x_validation)\n",
    "print(f\"Accuracy = {classifier.score(x_validation,y_validation)}\")"
   ]
  },
  {
   "cell_type": "code",
   "execution_count": 9,
   "metadata": {},
   "outputs": [
    {
     "name": "stdout",
     "output_type": "stream",
     "text": [
      "[[376  66   1]\n",
      " [ 90 292  61]\n",
      " [ 13  56 374]]\n",
      "              precision    recall  f1-score   support\n",
      "\n",
      "           0       0.78      0.85      0.82       443\n",
      "           1       0.71      0.66      0.68       443\n",
      "           2       0.86      0.84      0.85       443\n",
      "\n",
      "    accuracy                           0.78      1329\n",
      "   macro avg       0.78      0.78      0.78      1329\n",
      "weighted avg       0.78      0.78      0.78      1329\n",
      "\n"
     ]
    }
   ],
   "source": [
    "cm = confusion_matrix(y_validation,y_pred)\n",
    "print(cm)\n",
    "print(classification_report(y_validation, y_pred))"
   ]
  },
  {
   "cell_type": "code",
   "execution_count": 10,
   "metadata": {},
   "outputs": [
    {
     "name": "stdout",
     "output_type": "stream",
     "text": [
      "Accuracy = 0.7276147479307751\n"
     ]
    },
    {
     "name": "stderr",
     "output_type": "stream",
     "text": [
      "C:\\Users\\AkeshalaMarasinghe\\anaconda33\\lib\\site-packages\\sklearn\\utils\\validation.py:72: DataConversionWarning: A column-vector y was passed when a 1d array was expected. Please change the shape of y to (n_samples, ), for example using ravel().\n",
      "  return f(**kwargs)\n"
     ]
    }
   ],
   "source": [
    "from sklearn.ensemble import AdaBoostClassifier\n",
    "\n",
    "classifier = AdaBoostClassifier(random_state = 21)\n",
    "classifier.fit(x_train, y_train)\n",
    "y_pred = classifier.predict(x_validation)\n",
    "\n",
    "print(f\"Accuracy = {classifier.score(x_validation,y_validation)}\")"
   ]
  },
  {
   "cell_type": "code",
   "execution_count": 11,
   "metadata": {},
   "outputs": [
    {
     "name": "stdout",
     "output_type": "stream",
     "text": [
      "[[394  48   1]\n",
      " [139 163 141]\n",
      " [ 15  18 410]]\n",
      "              precision    recall  f1-score   support\n",
      "\n",
      "           0       0.72      0.89      0.80       443\n",
      "           1       0.71      0.37      0.49       443\n",
      "           2       0.74      0.93      0.82       443\n",
      "\n",
      "    accuracy                           0.73      1329\n",
      "   macro avg       0.72      0.73      0.70      1329\n",
      "weighted avg       0.72      0.73      0.70      1329\n",
      "\n"
     ]
    }
   ],
   "source": [
    "cm = confusion_matrix(y_validation,y_pred)\n",
    "print(cm)\n",
    "print(classification_report(y_validation, y_pred))"
   ]
  },
  {
   "cell_type": "code",
   "execution_count": 12,
   "metadata": {},
   "outputs": [
    {
     "name": "stderr",
     "output_type": "stream",
     "text": [
      "C:\\Users\\AkeshalaMarasinghe\\anaconda33\\lib\\site-packages\\sklearn\\model_selection\\_search.py:847: FutureWarning: The parameter 'iid' is deprecated in 0.22 and will be removed in 0.24.\n",
      "  warnings.warn(\n",
      "C:\\Users\\AkeshalaMarasinghe\\anaconda33\\lib\\site-packages\\sklearn\\utils\\validation.py:72: DataConversionWarning: A column-vector y was passed when a 1d array was expected. Please change the shape of y to (n_samples, ), for example using ravel().\n",
      "  return f(**kwargs)\n"
     ]
    },
    {
     "data": {
      "text/plain": [
       "({'subsample': 1}, 0.7872491671323181)"
      ]
     },
     "execution_count": 12,
     "metadata": {},
     "output_type": "execute_result"
    }
   ],
   "source": [
    "from sklearn.model_selection import GridSearchCV\n",
    "from sklearn.ensemble import GradientBoostingClassifier\n",
    "#y_new_train = preprocessing.label_binarize(y_train, classes=[0, 1, 2])\n",
    "\n",
    "param_test1 = {'n_estimators':range(20,81,5)}\n",
    "param_test2 = {'max_depth':range(5,16,2),'min_samples_split':range(200,1001,200)}\n",
    "param_test3 = {'min_samples_split':range(1000,2100,200), 'min_samples_leaf':range(30,71,10)}\n",
    "param_test4 = {'max_features':range(0,20,2)}\n",
    "param_test5 = {'subsample':[0.6,0.7,0.75,0.8,0.85,0.9,0.95,1,1.1,1.2]}\n",
    "\n",
    "gsearch1 = GridSearchCV(estimator = GradientBoostingClassifier(learning_rate=0.1,n_estimators=75,random_state=21,max_depth=7,min_samples_split=1600,min_samples_leaf=30,max_features=2,subsample=1), \n",
    "param_grid = param_test5, scoring='accuracy',n_jobs=4,iid=False, cv=5)\n",
    "gsearch1.fit(x_train,y_train)\n",
    "gsearch1.best_params_, gsearch1.best_score_"
   ]
  },
  {
   "cell_type": "code",
   "execution_count": 13,
   "metadata": {},
   "outputs": [
    {
     "name": "stderr",
     "output_type": "stream",
     "text": [
      "C:\\Users\\AkeshalaMarasinghe\\anaconda33\\lib\\site-packages\\sklearn\\utils\\validation.py:72: DataConversionWarning: A column-vector y was passed when a 1d array was expected. Please change the shape of y to (n_samples, ), for example using ravel().\n",
      "  return f(**kwargs)\n"
     ]
    },
    {
     "name": "stdout",
     "output_type": "stream",
     "text": [
      "Accuracy = 0.7848006019563581\n"
     ]
    },
    {
     "data": {
      "text/plain": [
       "['gradientboostmodel.pkl']"
      ]
     },
     "execution_count": 13,
     "metadata": {},
     "output_type": "execute_result"
    }
   ],
   "source": [
    "\n",
    "classifier = GradientBoostingClassifier(learning_rate=0.005,n_estimators=1500,random_state=21,max_depth=7,min_samples_split=1600,min_samples_leaf=30,max_features=2,subsample=1)\n",
    "classifier.fit(x_train, y_train)\n",
    "y_pred = classifier.predict(x_validation)\n",
    "\n",
    "print(f\"Accuracy = {classifier.score(x_validation,y_validation)}\")\n",
    "joblib.dump(classifier, 'gradientboostmodel.pkl') "
   ]
  },
  {
   "cell_type": "code",
   "execution_count": 14,
   "metadata": {},
   "outputs": [
    {
     "name": "stdout",
     "output_type": "stream",
     "text": [
      "[[378  64   1]\n",
      " [ 92 293  58]\n",
      " [ 15  56 372]]\n",
      "              precision    recall  f1-score   support\n",
      "\n",
      "           0       0.78      0.85      0.81       443\n",
      "           1       0.71      0.66      0.68       443\n",
      "           2       0.86      0.84      0.85       443\n",
      "\n",
      "    accuracy                           0.78      1329\n",
      "   macro avg       0.78      0.78      0.78      1329\n",
      "weighted avg       0.78      0.78      0.78      1329\n",
      "\n"
     ]
    }
   ],
   "source": [
    "cm = confusion_matrix(y_validation,y_pred)\n",
    "print(cm)\n",
    "print(classification_report(y_validation, y_pred))"
   ]
  },
  {
   "cell_type": "code",
   "execution_count": 24,
   "metadata": {},
   "outputs": [],
   "source": [
    "classifier = joblib.load('randomforestmodel.pkl')\n",
    "x=[[0.8, 1.1],[0.1,0.8],[-0.5,0.7]]\n",
    "a=np.asarray(x,dtype =float)\n",
    "prediction = classifier.predict(a)\n"
   ]
  },
  {
   "cell_type": "code",
   "execution_count": 26,
   "metadata": {},
   "outputs": [
    {
     "name": "stdout",
     "output_type": "stream",
     "text": [
      "<class 'numpy.ndarray'>\n"
     ]
    }
   ],
   "source": [
    "print(type(prediction))"
   ]
  },
  {
   "cell_type": "code",
   "execution_count": null,
   "metadata": {},
   "outputs": [],
   "source": []
  }
 ],
 "metadata": {
  "kernelspec": {
   "display_name": "Python 3",
   "language": "python",
   "name": "python3"
  },
  "language_info": {
   "codemirror_mode": {
    "name": "ipython",
    "version": 3
   },
   "file_extension": ".py",
   "mimetype": "text/x-python",
   "name": "python",
   "nbconvert_exporter": "python",
   "pygments_lexer": "ipython3",
   "version": "3.8.3"
  }
 },
 "nbformat": 4,
 "nbformat_minor": 2
}
