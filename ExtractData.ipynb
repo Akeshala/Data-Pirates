{
 "cells": [
  {
   "cell_type": "code",
   "execution_count": 142,
   "metadata": {},
   "outputs": [],
   "source": [
    "from numpy import genfromtxt\n",
    "#from xgboost import XGBClassifier\n",
    "from sklearn.model_selection import train_test_split\n",
    "from sklearn.metrics import accuracy_score\n",
    "from pandas import read_csv\n"
   ]
  },
  {
   "cell_type": "code",
   "execution_count": 143,
   "metadata": {},
   "outputs": [],
   "source": [
    "dataset = read_csv('Hotel-A-train.csv')"
   ]
  },
  {
   "cell_type": "code",
   "execution_count": 144,
   "metadata": {},
   "outputs": [
    {
     "name": "stdout",
     "output_type": "stream",
     "text": [
      "       Reservation-id Gender  Age         Ethnicity Educational_Level  \\\n",
      "0            39428300      F   40            Latino              Grad   \n",
      "1            77491756      F   49            Latino        Mid-School   \n",
      "2            73747291      F   42         caucasian              Grad   \n",
      "3            67301739      M   25  African American           College   \n",
      "4            77222321      F   62            Latino       High-School   \n",
      "...               ...    ...  ...               ...               ...   \n",
      "27494        15645505      F   49  African American        Mid-School   \n",
      "27495        56414525      F   49    Asian American           College   \n",
      "27496        52023375      F   49            Latino       High-School   \n",
      "27497        98041387      M   65  African American           College   \n",
      "27498        55243988      F   48         caucasian           College   \n",
      "\n",
      "            Income Country_region      Hotel_Type Expected_checkin  \\\n",
      "0             <25K          North      City Hotel         7/1/2015   \n",
      "1      50K -- 100K           East      City Hotel         7/1/2015   \n",
      "2             <25K           East      City Hotel         7/2/2015   \n",
      "3            >100K          South  Airport Hotels         7/2/2015   \n",
      "4        25K --50K           East          Resort         7/3/2015   \n",
      "...            ...            ...             ...              ...   \n",
      "27494         <25K           West      City Hotel        8/31/2016   \n",
      "27495    25K --50K          South  Airport Hotels        8/31/2016   \n",
      "27496  50K -- 100K          South  Airport Hotels         9/1/2016   \n",
      "27497    25K --50K          South  Airport Hotels        8/31/2016   \n",
      "27498    25K --50K          North          Resort        8/31/2016   \n",
      "\n",
      "      Expected_checkout  ... Meal_Type  Visted_Previously  \\\n",
      "0              7/2/2015  ...        BB                 No   \n",
      "1              7/2/2015  ...        BB                 No   \n",
      "2              7/6/2015  ...        BB                 No   \n",
      "3              7/3/2015  ...        BB                 No   \n",
      "4              7/4/2015  ...        BB                 No   \n",
      "...                 ...  ...       ...                ...   \n",
      "27494          9/1/2016  ...        HB                Yes   \n",
      "27495          9/1/2016  ...        BB                 No   \n",
      "27496          9/2/2016  ...        HB                 No   \n",
      "27497          9/1/2016  ...        FB                 No   \n",
      "27498          9/1/2016  ...        HB                 No   \n",
      "\n",
      "       Previous_Cancellations  Deposit_type Booking_channel  \\\n",
      "0                          No    No Deposit          Online   \n",
      "1                          No    Refundable          Online   \n",
      "2                          No    No Deposit          Online   \n",
      "3                          No    Refundable           Agent   \n",
      "4                          No    No Deposit          Direct   \n",
      "...                       ...           ...             ...   \n",
      "27494                     Yes    No Deposit          Online   \n",
      "27495                      No    Refundable           Agent   \n",
      "27496                      No    No Deposit          Direct   \n",
      "27497                      No    No Deposit          Online   \n",
      "27498                      No    No Deposit          Online   \n",
      "\n",
      "      Required_Car_Parking Reservation_Status Use_Promotion Discount_Rate  \\\n",
      "0                      Yes           Check-In           Yes            10   \n",
      "1                      Yes           Check-In            No             0   \n",
      "2                      Yes           Check-In            No             0   \n",
      "3                      Yes           Check-In           Yes             5   \n",
      "4                       No           Check-In           Yes            10   \n",
      "...                    ...                ...           ...           ...   \n",
      "27494                  Yes           Check-In           Yes            10   \n",
      "27495                  Yes            No-Show           Yes            40   \n",
      "27496                  Yes           Check-In           Yes             5   \n",
      "27497                   No           Canceled           Yes            20   \n",
      "27498                   No            No-Show            No             0   \n",
      "\n",
      "      Room_Rate  \n",
      "0           218  \n",
      "1           185  \n",
      "2           119  \n",
      "3           144  \n",
      "4           242  \n",
      "...         ...  \n",
      "27494       100  \n",
      "27495       194  \n",
      "27496       202  \n",
      "27497       157  \n",
      "27498       210  \n",
      "\n",
      "[27499 rows x 24 columns]\n"
     ]
    }
   ],
   "source": [
    "print(dataset)"
   ]
  },
  {
   "cell_type": "code",
   "execution_count": null,
   "metadata": {},
   "outputs": [],
   "source": []
  },
  {
   "cell_type": "code",
   "execution_count": 145,
   "metadata": {},
   "outputs": [],
   "source": [
    "extracted_data = dataset.drop(columns = [\"Reservation-id\",\"Gender\",\"Age\",\"Ethnicity\",\"Educational_Level\",\"Income\",\"Country_region\",\"Hotel_Type\",\"Expected_checkin\",\"Expected_checkout\",\"Booking_date\",\"Adults\",\"Children\",\"Babies\"])"
   ]
  },
  {
   "cell_type": "code",
   "execution_count": 146,
   "metadata": {},
   "outputs": [],
   "source": [
    "#Meal Type Encode\n",
    "def meal_type(x):\n",
    "    if x == \"HB\":\n",
    "        x = 0\n",
    "        return x\n",
    "    elif x == \"BB\":\n",
    "        x = 1\n",
    "        return x\n",
    "    elif x == \"FB\":\n",
    "        x = 2\n",
    "        return x\n",
    "        "
   ]
  },
  {
   "cell_type": "code",
   "execution_count": 147,
   "metadata": {},
   "outputs": [],
   "source": [
    "meal_type = extracted_data[\"Meal_Type\"].apply(meal_type)"
   ]
  },
  {
   "cell_type": "code",
   "execution_count": 148,
   "metadata": {},
   "outputs": [],
   "source": [
    "dataset.update(meal_type)"
   ]
  },
  {
   "cell_type": "code",
   "execution_count": 149,
   "metadata": {},
   "outputs": [],
   "source": [
    "def yes_no(x):\n",
    "    if x == \"Yes\":\n",
    "        x = 1\n",
    "        return x\n",
    "    else:\n",
    "        return 0"
   ]
  },
  {
   "cell_type": "code",
   "execution_count": 150,
   "metadata": {},
   "outputs": [],
   "source": [
    "visited_previously = extracted_data[\"Visted_Previously\"].apply(yes_no)"
   ]
  },
  {
   "cell_type": "code",
   "execution_count": 151,
   "metadata": {},
   "outputs": [],
   "source": [
    "dataset.update(visited_previously)"
   ]
  },
  {
   "cell_type": "code",
   "execution_count": 152,
   "metadata": {},
   "outputs": [],
   "source": [
    "Previous_Cancellations = extracted_data[\"Previous_Cancellations\"].apply(yes_no)"
   ]
  },
  {
   "cell_type": "code",
   "execution_count": 153,
   "metadata": {},
   "outputs": [],
   "source": [
    "dataset.update(Previous_Cancellations)"
   ]
  },
  {
   "cell_type": "code",
   "execution_count": 154,
   "metadata": {},
   "outputs": [],
   "source": [
    "def Deposit_type(x):\n",
    "    if x == \"No Deposit\":\n",
    "        return 0\n",
    "    elif x == \"Refundable\":\n",
    "        return 1\n",
    "    elif x == \"Non-Refundable\":\n",
    "        return 2\n",
    "    elif x == \"No Deposit\":\n",
    "        return 3"
   ]
  },
  {
   "cell_type": "code",
   "execution_count": 155,
   "metadata": {},
   "outputs": [],
   "source": [
    "Deposit_type = extracted_data[\"Deposit_type\"].apply(Deposit_type)"
   ]
  },
  {
   "cell_type": "code",
   "execution_count": 156,
   "metadata": {},
   "outputs": [],
   "source": [
    "dataset.update(Deposit_type)"
   ]
  },
  {
   "cell_type": "code",
   "execution_count": 157,
   "metadata": {},
   "outputs": [],
   "source": [
    "def Booking_channel(x):\n",
    "    if x == \"Direct\":\n",
    "        return 0\n",
    "    elif x == \"Online\":\n",
    "        return 1\n",
    "    elif x == \"Agent\":\n",
    "        return 2"
   ]
  },
  {
   "cell_type": "code",
   "execution_count": 158,
   "metadata": {},
   "outputs": [],
   "source": [
    "Booking_channel = extracted_data[\"Booking_channel\"].apply(Booking_channel)"
   ]
  },
  {
   "cell_type": "code",
   "execution_count": 159,
   "metadata": {},
   "outputs": [],
   "source": [
    "dataset.update(Booking_channel)"
   ]
  },
  {
   "cell_type": "code",
   "execution_count": 160,
   "metadata": {},
   "outputs": [],
   "source": [
    "dataset.update(extracted_data[\"Required_Car_Parking\"].apply(yes_no))"
   ]
  },
  {
   "cell_type": "code",
   "execution_count": 161,
   "metadata": {},
   "outputs": [],
   "source": [
    "dataset.update(extracted_data[\"Use_Promotion\"].apply(yes_no))"
   ]
  },
  {
   "cell_type": "code",
   "execution_count": 162,
   "metadata": {},
   "outputs": [],
   "source": [
    "def result(x):\n",
    "    if x == \"Check-In\":\n",
    "        return 2\n",
    "    elif x == \"No-Show\":\n",
    "        return 1\n",
    "    elif x == \"Canceled\":\n",
    "        return 0"
   ]
  },
  {
   "cell_type": "code",
   "execution_count": 163,
   "metadata": {},
   "outputs": [],
   "source": [
    "dataset.update(extracted_data[\"Reservation_Status\"].apply(result))"
   ]
  },
  {
   "cell_type": "code",
   "execution_count": 164,
   "metadata": {},
   "outputs": [],
   "source": [
    "dataset.to_csv(\"new_train_data.csv\")"
   ]
  },
  {
   "cell_type": "code",
   "execution_count": 165,
   "metadata": {},
   "outputs": [
    {
     "data": {
      "text/plain": [
       "<bound method NDFrame.describe of        Reservation-id Gender  Age         Ethnicity Educational_Level  \\\n",
       "0            39428300      F   40            Latino              Grad   \n",
       "1            77491756      F   49            Latino        Mid-School   \n",
       "2            73747291      F   42         caucasian              Grad   \n",
       "3            67301739      M   25  African American           College   \n",
       "4            77222321      F   62            Latino       High-School   \n",
       "...               ...    ...  ...               ...               ...   \n",
       "27494        15645505      F   49  African American        Mid-School   \n",
       "27495        56414525      F   49    Asian American           College   \n",
       "27496        52023375      F   49            Latino       High-School   \n",
       "27497        98041387      M   65  African American           College   \n",
       "27498        55243988      F   48         caucasian           College   \n",
       "\n",
       "            Income Country_region      Hotel_Type Expected_checkin  \\\n",
       "0             <25K          North      City Hotel         7/1/2015   \n",
       "1      50K -- 100K           East      City Hotel         7/1/2015   \n",
       "2             <25K           East      City Hotel         7/2/2015   \n",
       "3            >100K          South  Airport Hotels         7/2/2015   \n",
       "4        25K --50K           East          Resort         7/3/2015   \n",
       "...            ...            ...             ...              ...   \n",
       "27494         <25K           West      City Hotel        8/31/2016   \n",
       "27495    25K --50K          South  Airport Hotels        8/31/2016   \n",
       "27496  50K -- 100K          South  Airport Hotels         9/1/2016   \n",
       "27497    25K --50K          South  Airport Hotels        8/31/2016   \n",
       "27498    25K --50K          North          Resort        8/31/2016   \n",
       "\n",
       "      Expected_checkout  ... Meal_Type  Visted_Previously  \\\n",
       "0              7/2/2015  ...         1                  0   \n",
       "1              7/2/2015  ...         1                  0   \n",
       "2              7/6/2015  ...         1                  0   \n",
       "3              7/3/2015  ...         1                  0   \n",
       "4              7/4/2015  ...         1                  0   \n",
       "...                 ...  ...       ...                ...   \n",
       "27494          9/1/2016  ...         0                  1   \n",
       "27495          9/1/2016  ...         1                  0   \n",
       "27496          9/2/2016  ...         0                  0   \n",
       "27497          9/1/2016  ...         2                  0   \n",
       "27498          9/1/2016  ...         0                  0   \n",
       "\n",
       "       Previous_Cancellations  Deposit_type Booking_channel  \\\n",
       "0                           0             0               1   \n",
       "1                           0             1               1   \n",
       "2                           0             0               1   \n",
       "3                           0             1               2   \n",
       "4                           0             0               0   \n",
       "...                       ...           ...             ...   \n",
       "27494                       1             0               1   \n",
       "27495                       0             1               2   \n",
       "27496                       0             0               0   \n",
       "27497                       0             0               1   \n",
       "27498                       0             0               1   \n",
       "\n",
       "      Required_Car_Parking Reservation_Status Use_Promotion Discount_Rate  \\\n",
       "0                        1                  2             1            10   \n",
       "1                        1                  2             0             0   \n",
       "2                        1                  2             0             0   \n",
       "3                        1                  2             1             5   \n",
       "4                        0                  2             1            10   \n",
       "...                    ...                ...           ...           ...   \n",
       "27494                    1                  2             1            10   \n",
       "27495                    1                  1             1            40   \n",
       "27496                    1                  2             1             5   \n",
       "27497                    0                  0             1            20   \n",
       "27498                    0                  1             0             0   \n",
       "\n",
       "      Room_Rate  \n",
       "0           218  \n",
       "1           185  \n",
       "2           119  \n",
       "3           144  \n",
       "4           242  \n",
       "...         ...  \n",
       "27494       100  \n",
       "27495       194  \n",
       "27496       202  \n",
       "27497       157  \n",
       "27498       210  \n",
       "\n",
       "[27499 rows x 24 columns]>"
      ]
     },
     "execution_count": 165,
     "metadata": {},
     "output_type": "execute_result"
    }
   ],
   "source": [
    "dataset.describe"
   ]
  },
  {
   "cell_type": "code",
   "execution_count": 113,
   "metadata": {},
   "outputs": [],
   "source": []
  },
  {
   "cell_type": "code",
   "execution_count": 114,
   "metadata": {},
   "outputs": [
    {
     "ename": "SyntaxError",
     "evalue": "unexpected EOF while parsing (<ipython-input-114-9e693bed53cd>, line 1)",
     "output_type": "error",
     "traceback": [
      "\u001b[1;36m  File \u001b[1;32m\"<ipython-input-114-9e693bed53cd>\"\u001b[1;36m, line \u001b[1;32m1\u001b[0m\n\u001b[1;33m    dataset.update(extracted_data[\"Reservation_Status\"].apply(results)\u001b[0m\n\u001b[1;37m                                                                      ^\u001b[0m\n\u001b[1;31mSyntaxError\u001b[0m\u001b[1;31m:\u001b[0m unexpected EOF while parsing\n"
     ]
    }
   ],
   "source": []
  },
  {
   "cell_type": "code",
   "execution_count": null,
   "metadata": {},
   "outputs": [],
   "source": []
  }
 ],
 "metadata": {
  "kernelspec": {
   "display_name": "Python 3",
   "language": "python",
   "name": "python3"
  },
  "language_info": {
   "codemirror_mode": {
    "name": "ipython",
    "version": 3
   },
   "file_extension": ".py",
   "mimetype": "text/x-python",
   "name": "python",
   "nbconvert_exporter": "python",
   "pygments_lexer": "ipython3",
   "version": "3.8.5"
  }
 },
 "nbformat": 4,
 "nbformat_minor": 4
}
