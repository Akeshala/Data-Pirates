{
 "cells": [
  {
   "cell_type": "code",
   "execution_count": 91,
   "metadata": {},
   "outputs": [],
   "source": [
    "from numpy import genfromtxt\n",
    "#from xgboost import XGBClassifier\n",
    "from sklearn.model_selection import train_test_split\n",
    "from sklearn.metrics import accuracy_score\n",
    "from pandas import read_csv\n"
   ]
  },
  {
   "cell_type": "code",
   "execution_count": 92,
   "metadata": {},
   "outputs": [],
   "source": [
    "dataset = read_csv('Hotel-A-validation.csv')"
   ]
  },
  {
   "cell_type": "code",
   "execution_count": 93,
   "metadata": {},
   "outputs": [
    {
     "name": "stdout",
     "output_type": "stream",
     "text": [
      "      Reservation-id Gender  Age         Ethnicity Educational_Level  \\\n",
      "0           45716350      M   56         caucasian              Grad   \n",
      "1           88857401      M   60            Latino           College   \n",
      "2           16074440      F   58    Asian American           College   \n",
      "3           10992124      F   23            Latino           College   \n",
      "4           15934351      F   47    Asian American           College   \n",
      "...              ...    ...  ...               ...               ...   \n",
      "2744        32194836      F   22         caucasian           College   \n",
      "2745        52215692      F   35         caucasian           College   \n",
      "2746        31908733      M   18    Asian American              Grad   \n",
      "2747        41776403      M   42    Asian American           College   \n",
      "2748         5961678      M   53  African American       High-School   \n",
      "\n",
      "           Income Country_region      Hotel_Type Expected_checkin  \\\n",
      "0            <25K           West          Resort        8/31/2016   \n",
      "1       25K --50K           West          Resort        8/31/2016   \n",
      "2            <25K          North  Airport Hotels         9/1/2016   \n",
      "3       25K --50K           East  Airport Hotels        8/31/2016   \n",
      "4       25K --50K          South      City Hotel        8/31/2016   \n",
      "...           ...            ...             ...              ...   \n",
      "2744  50K -- 100K          South          Resort       11/18/2016   \n",
      "2745    25K --50K          South  Airport Hotels        12/9/2016   \n",
      "2746    25K --50K          North          Resort       11/18/2016   \n",
      "2747         <25K           West      City Hotel       11/18/2016   \n",
      "2748        >100K           East  Airport Hotels       11/18/2016   \n",
      "\n",
      "     Expected_checkout  ... Meal_Type  Visted_Previously  \\\n",
      "0             9/2/2016  ...        HB                 No   \n",
      "1             9/4/2016  ...        FB                Yes   \n",
      "2             9/2/2016  ...        FB                 No   \n",
      "3             9/2/2016  ...        FB                Yes   \n",
      "4             9/1/2016  ...        HB                Yes   \n",
      "...                ...  ...       ...                ...   \n",
      "2744        11/21/2016  ...        BB                Yes   \n",
      "2745        12/10/2016  ...        FB                 No   \n",
      "2746        11/20/2016  ...        FB                 No   \n",
      "2747        11/19/2016  ...        HB                Yes   \n",
      "2748        11/21/2016  ...        HB                 No   \n",
      "\n",
      "      Previous_Cancellations    Deposit_type Booking_channel  \\\n",
      "0                         No      No Deposit           Agent   \n",
      "1                         No      No Deposit          Online   \n",
      "2                         No      No Deposit          Direct   \n",
      "3                         No      Refundable          Direct   \n",
      "4                         No      No Deposit          Online   \n",
      "...                      ...             ...             ...   \n",
      "2744                      No      Refundable          Online   \n",
      "2745                      No  Non-Refundable          Direct   \n",
      "2746                      No      Refundable           Agent   \n",
      "2747                     Yes      No Deposit          Online   \n",
      "2748                      No      Refundable          Direct   \n",
      "\n",
      "     Required_Car_Parking Reservation_Status Use_Promotion Discount_Rate  \\\n",
      "0                      No            No-Show           Yes            15   \n",
      "1                     Yes           Canceled            No             0   \n",
      "2                      No           Canceled           Yes            10   \n",
      "3                      No           Check-In           Yes            25   \n",
      "4                     Yes           Check-In           Yes            10   \n",
      "...                   ...                ...           ...           ...   \n",
      "2744                   No           Check-In           Yes            10   \n",
      "2745                  Yes           Canceled           Yes             5   \n",
      "2746                   No            No-Show           Yes            20   \n",
      "2747                  Yes           Check-In           Yes            20   \n",
      "2748                   No           Check-In           Yes            40   \n",
      "\n",
      "     Room_Rate  \n",
      "0          192  \n",
      "1          187  \n",
      "2          227  \n",
      "3          189  \n",
      "4          218  \n",
      "...        ...  \n",
      "2744       199  \n",
      "2745       106  \n",
      "2746       136  \n",
      "2747       226  \n",
      "2748       183  \n",
      "\n",
      "[2749 rows x 24 columns]\n"
     ]
    }
   ],
   "source": [
    "print(dataset)"
   ]
  },
  {
   "cell_type": "code",
   "execution_count": null,
   "metadata": {},
   "outputs": [],
   "source": []
  },
  {
   "cell_type": "code",
   "execution_count": 94,
   "metadata": {},
   "outputs": [],
   "source": [
    "extracted_data = dataset.drop(columns = [\"Reservation-id\",\"Gender\",\"Age\",\"Ethnicity\",\"Educational_Level\",\"Income\",\"Country_region\",\"Hotel_Type\",\"Expected_checkin\",\"Expected_checkout\",\"Booking_date\",\"Adults\",\"Children\",\"Babies\"])"
   ]
  },
  {
   "cell_type": "code",
   "execution_count": 95,
   "metadata": {},
   "outputs": [],
   "source": [
    "#Meal Type Encode\n",
    "def meal_type(x):\n",
    "    if x == \"HB\":\n",
    "        x = 0\n",
    "        return x\n",
    "    elif x == \"BB\":\n",
    "        x = 1\n",
    "        return x\n",
    "    elif x == \"FB\":\n",
    "        x = 2\n",
    "        return x\n",
    "        "
   ]
  },
  {
   "cell_type": "code",
   "execution_count": 96,
   "metadata": {},
   "outputs": [],
   "source": [
    "meal_type = extracted_data[\"Meal_Type\"].apply(meal_type)"
   ]
  },
  {
   "cell_type": "code",
   "execution_count": 97,
   "metadata": {},
   "outputs": [],
   "source": [
    "dataset.update(meal_type)"
   ]
  },
  {
   "cell_type": "code",
   "execution_count": 98,
   "metadata": {},
   "outputs": [],
   "source": [
    "def yes_no(x):\n",
    "    if x == \"Yes\":\n",
    "        x = 1\n",
    "        return x\n",
    "    else:\n",
    "        return 0"
   ]
  },
  {
   "cell_type": "code",
   "execution_count": 99,
   "metadata": {},
   "outputs": [],
   "source": [
    "visited_previously = extracted_data[\"Visted_Previously\"].apply(yes_no)"
   ]
  },
  {
   "cell_type": "code",
   "execution_count": 100,
   "metadata": {},
   "outputs": [],
   "source": [
    "dataset.update(visited_previously)"
   ]
  },
  {
   "cell_type": "code",
   "execution_count": 101,
   "metadata": {},
   "outputs": [],
   "source": [
    "Previous_Cancellations = extracted_data[\"Previous_Cancellations\"].apply(yes_no)"
   ]
  },
  {
   "cell_type": "code",
   "execution_count": 102,
   "metadata": {},
   "outputs": [],
   "source": [
    "dataset.update(Previous_Cancellations)"
   ]
  },
  {
   "cell_type": "code",
   "execution_count": 103,
   "metadata": {},
   "outputs": [],
   "source": [
    "def Deposit_type(x):\n",
    "    if x == \"No Deposit\":\n",
    "        return 0\n",
    "    elif x == \"Refundable\":\n",
    "        return 1\n",
    "    elif x == \"Non-Refundable\":\n",
    "        return 2\n",
    "    elif x == \"No Deposit\":\n",
    "        return 3"
   ]
  },
  {
   "cell_type": "code",
   "execution_count": 104,
   "metadata": {},
   "outputs": [],
   "source": [
    "Deposit_type = extracted_data[\"Deposit_type\"].apply(Deposit_type)"
   ]
  },
  {
   "cell_type": "code",
   "execution_count": 105,
   "metadata": {},
   "outputs": [],
   "source": [
    "dataset.update(Deposit_type)"
   ]
  },
  {
   "cell_type": "code",
   "execution_count": 106,
   "metadata": {},
   "outputs": [],
   "source": [
    "def Booking_channel(x):\n",
    "    if x == \"Direct\":\n",
    "        return 0\n",
    "    elif x == \"Online\":\n",
    "        return 1\n",
    "    elif x == \"Agent\":\n",
    "        return 2"
   ]
  },
  {
   "cell_type": "code",
   "execution_count": 107,
   "metadata": {},
   "outputs": [],
   "source": [
    "Booking_channel = extracted_data[\"Booking_channel\"].apply(Booking_channel)"
   ]
  },
  {
   "cell_type": "code",
   "execution_count": 108,
   "metadata": {},
   "outputs": [],
   "source": [
    "dataset.update(Booking_channel)"
   ]
  },
  {
   "cell_type": "code",
   "execution_count": 109,
   "metadata": {},
   "outputs": [],
   "source": [
    "dataset.update(extracted_data[\"Required_Car_Parking\"].apply(yes_no))"
   ]
  },
  {
   "cell_type": "code",
   "execution_count": 110,
   "metadata": {},
   "outputs": [],
   "source": [
    "dataset.update(extracted_data[\"Use_Promotion\"].apply(yes_no))"
   ]
  },
  {
   "cell_type": "code",
   "execution_count": 111,
   "metadata": {},
   "outputs": [],
   "source": [
    "dataset.to_csv(\"new_validation_data.csv\")"
   ]
  },
  {
   "cell_type": "code",
   "execution_count": null,
   "metadata": {},
   "outputs": [],
   "source": []
  }
 ],
 "metadata": {
  "kernelspec": {
   "display_name": "Python 3",
   "language": "python",
   "name": "python3"
  },
  "language_info": {
   "codemirror_mode": {
    "name": "ipython",
    "version": 3
   },
   "file_extension": ".py",
   "mimetype": "text/x-python",
   "name": "python",
   "nbconvert_exporter": "python",
   "pygments_lexer": "ipython3",
   "version": "3.8.5"
  }
 },
 "nbformat": 4,
 "nbformat_minor": 4
}
